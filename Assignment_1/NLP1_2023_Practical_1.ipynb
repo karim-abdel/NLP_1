{
  "cells": [
    {
      "cell_type": "markdown",
      "metadata": {
        "id": "1-aRiOgl4nHg"
      },
      "source": [
        "------\n",
        "**You cannot save any changes you make to this file, so please make sure to save it on your Google Colab drive or download it as a .ipynb file.**\n",
        "\n",
        "------\n",
        "\n"
      ]
    },
    {
      "cell_type": "markdown",
      "metadata": {
        "id": "lIZrAUx57vsM"
      },
      "source": [
        "Practical 1: Sentiment Detection in Movie Reviews\n",
        "========================================\n",
        "\n"
      ]
    },
    {
      "cell_type": "markdown",
      "metadata": {
        "id": "J4kXPMhyngZW"
      },
      "source": [
        "This practical concerns detecting sentiment in movie reviews. This is a typical NLP classification task.\n",
        "In [this file](https://gist.githubusercontent.com/bastings/d47423301cca214e3930061a5a75e177/raw/5113687382919e22b1f09ce71a8fecd1687a5760/reviews.json) (80MB) you will find 1000 positive and 1000 negative **movie reviews**.\n",
        "Each review is a **document** and consists of one or more sentences.\n",
        "\n",
        "To prepare yourself for this practical, you should\n",
        "have a look at a few of these texts to understand the difficulties of\n",
        "the task: how might one go about classifying the texts? You will write\n",
        "code that decides whether a movie review conveys positive or\n",
        "negative sentiment.\n",
        "\n",
        "Please make sure you have read the following paper:\n",
        "\n",
        ">   Bo Pang, Lillian Lee, and Shivakumar Vaithyanathan\n",
        "(2002).\n",
        "[Thumbs up? Sentiment Classification using Machine Learning\n",
        "Techniques](https://dl.acm.org/citation.cfm?id=1118704). EMNLP.\n",
        "\n",
        "Bo Pang et al. introduced the movie review sentiment\n",
        "classification task, and the above paper was one of the first papers on\n",
        "the topic. The first version of your sentiment classifier will do\n",
        "something similar to Pang et al.'s system. If you have questions about it,\n",
        "you should resolve you doubts as soon as possible with your TA.\n"
      ]
    },
    {
      "cell_type": "markdown",
      "metadata": {
        "id": "cb7errgRASzZ"
      },
      "source": [
        "**Advice**\n",
        "\n",
        "Please read through the entire practical and familiarise\n",
        "yourself with all requirements before you start coding or otherwise\n",
        "solving the tasks. Writing clean and concise code can make the difference\n",
        "between solving the assignment in a matter of hours, and taking days to\n",
        "run all experiments.\n",
        "\n",
        "\n",
        "**Implementation**\n",
        "\n",
        "While we inserted code cells to indicate where you should implement your own code, please feel free to add/remove code blocks where you see fit (but make sure that the general structure of the assignment is preserved). Also, please keep in mind that it is always good practice to structure your code properly, e.g., by implementing separate classes and functions that can be reused.\n",
        "\n",
        "## Environment\n",
        "\n",
        "All code should be written in **Python 3**.\n",
        "This is the default in Google Colab."
      ]
    },
    {
      "cell_type": "code",
      "execution_count": 2,
      "metadata": {
        "colab": {
          "base_uri": "https://localhost:8080/"
        },
        "id": "SaZnxptMJiD7",
        "outputId": "18c3a760-90b6-4d90-e507-aba57841ae23"
      },
      "outputs": [
        {
          "name": "stdout",
          "output_type": "stream",
          "text": [
            "Python 3.9.18\n"
          ]
        }
      ],
      "source": [
        "!python --version"
      ]
    },
    {
      "cell_type": "markdown",
      "metadata": {
        "id": "BYZyIF7lJnGn"
      },
      "source": [
        "If you want to run code on your own computer, then download this notebook through `File -> Download .ipynb`.\n",
        "The easiest way to\n",
        "install Python is through downloading\n",
        "[Anaconda](https://www.anaconda.com/download).\n",
        "After installation, you can start the notebook by typing `jupyter notebook filename.ipynb`.\n",
        "You can also use an IDE\n",
        "such as [PyCharm](https://www.jetbrains.com/pycharm/download/) to make\n",
        "coding and debugging easier. It is good practice to create a [virtual\n",
        "environment](https://docs.python.org/3/tutorial/venv.html) for this\n",
        "project, so that any Python packages don’t interfere with other\n",
        "projects.\n",
        "\n",
        "\n",
        "**Learning Python 3**\n",
        "\n",
        "If you are new to Python 3, you may want to check out a few of these resources:\n",
        "- https://learnxinyminutes.com/docs/python3/\n",
        "- https://www.learnpython.org/\n",
        "- https://docs.python.org/3/tutorial/"
      ]
    },
    {
      "cell_type": "code",
      "execution_count": 1,
      "metadata": {
        "id": "hok-BFu9lGoK"
      },
      "outputs": [],
      "source": [
        "import math\n",
        "import os\n",
        "import sys\n",
        "from subprocess import call\n",
        "from nltk import FreqDist\n",
        "from nltk.util import ngrams\n",
        "from nltk.stem.porter import PorterStemmer\n",
        "import sklearn as sk\n",
        "#from google.colab import drive\n",
        "import pickle\n",
        "import json\n",
        "from collections import Counter\n",
        "import requests\n",
        "import matplotlib.pyplot as plt\n",
        "import numpy as np"
      ]
    },
    {
      "cell_type": "markdown",
      "metadata": {
        "id": "bXWyGHwE-ieQ"
      },
      "source": [
        "## Loading the data\n",
        "\n",
        "**Download the sentiment lexicon and the movie reviews dataset.**"
      ]
    },
    {
      "cell_type": "code",
      "execution_count": 3,
      "metadata": {
        "colab": {
          "base_uri": "https://localhost:8080/"
        },
        "id": "lm-rakqtlMOT",
        "outputId": "1b6b1152-50b7-4161-aab2-03da318d6981"
      },
      "outputs": [
        {
          "name": "stdout",
          "output_type": "stream",
          "text": [
            "--2023-11-02 14:07:08--  https://gist.githubusercontent.com/bastings/d6f99dcb6c82231b94b013031356ba05/raw/f80a0281eba8621b122012c89c8b5e2200b39fd6/sent_lexicon\n",
            "Resolving gist.githubusercontent.com (gist.githubusercontent.com)... 185.199.111.133, 185.199.110.133, 185.199.108.133, ...\n",
            "Connecting to gist.githubusercontent.com (gist.githubusercontent.com)|185.199.111.133|:443... connected.\n",
            "HTTP request sent, awaiting response... 200 OK\n",
            "Length: 662577 (647K) [text/plain]\n",
            "Saving to: ‘sent_lexicon’\n",
            "\n",
            "sent_lexicon        100%[===================>] 647,05K  --.-KB/s    in 0,07s   \n",
            "\n",
            "2023-11-02 14:07:08 (8,59 MB/s) - ‘sent_lexicon’ saved [662577/662577]\n",
            "\n",
            "--2023-11-02 14:07:08--  https://gist.githubusercontent.com/bastings/d47423301cca214e3930061a5a75e177/raw/5113687382919e22b1f09ce71a8fecd1687a5760/reviews.json\n",
            "Resolving gist.githubusercontent.com (gist.githubusercontent.com)... 185.199.111.133, 185.199.110.133, 185.199.108.133, ...\n",
            "Connecting to gist.githubusercontent.com (gist.githubusercontent.com)|185.199.111.133|:443... connected.\n",
            "HTTP request sent, awaiting response... 200 OK\n",
            "Length: 83503869 (80M) [text/plain]\n",
            "Saving to: ‘reviews.json’\n",
            "\n",
            "reviews.json        100%[===================>]  79,63M  7,48MB/s    in 10s     \n",
            "\n",
            "2023-11-02 14:07:19 (7,90 MB/s) - ‘reviews.json’ saved [83503869/83503869]\n",
            "\n"
          ]
        }
      ],
      "source": [
        "# download sentiment lexicon\n",
        "!wget https://gist.githubusercontent.com/bastings/d6f99dcb6c82231b94b013031356ba05/raw/f80a0281eba8621b122012c89c8b5e2200b39fd6/sent_lexicon\n",
        "# download review data\n",
        "!wget https://gist.githubusercontent.com/bastings/d47423301cca214e3930061a5a75e177/raw/5113687382919e22b1f09ce71a8fecd1687a5760/reviews.json"
      ]
    },
    {
      "cell_type": "markdown",
      "metadata": {
        "id": "AkPwuHp5LSuQ"
      },
      "source": [
        "**Load the movie reviews.**\n",
        "\n",
        "Each word in a review comes with its part-of-speech tag. For documentation on POS-tags, see https://catalog.ldc.upenn.edu/docs/LDC99T42/tagguid1.pdf.\n"
      ]
    },
    {
      "cell_type": "code",
      "execution_count": 65,
      "metadata": {
        "colab": {
          "base_uri": "https://localhost:8080/"
        },
        "id": "careEKj-mRpl",
        "outputId": "a6f3c385-5106-49ec-be89-4aff971eb05b"
      },
      "outputs": [
        {
          "name": "stdout",
          "output_type": "stream",
          "text": [
            "Total number of reviews: 2000 \n",
            "\n",
            "0 NEG 29\n",
            "Two/CD teen/JJ couples/NNS go/VBP to/TO a/DT church/NN party/NN ,/, drink/NN and/CC then/RB drive/NN ./.\n",
            "1 NEG 11\n",
            "Damn/JJ that/IN Y2K/CD bug/NN ./.\n",
            "2 NEG 24\n",
            "It/PRP is/VBZ movies/NNS like/IN these/DT that/WDT make/VBP a/DT jaded/JJ movie/NN viewer/NN thankful/JJ for/IN the/DT invention/NN of/IN the/DT Timex/NNP IndiGlo/NNP watch/NN ./.\n",
            "3 NEG 19\n",
            "QUEST/NN FOR/IN CAMELOT/NNP ``/`` Quest/NNP for/IN Camelot/NNP ''/'' is/VBZ Warner/NNP Bros./NNP '/POS first/JJ feature-length/JJ ,/, fully-animated/JJ attempt/NN to/TO steal/VB clout/NN from/IN Disney/NNP 's/POS cartoon/NN empire/NN ,/, but/CC the/DT mouse/NN has/VBZ no/DT reason/NN to/TO be/VB worried/VBN ./.\n",
            "4 NEG 38\n",
            "Synopsis/NNPS :/: A/DT mentally/RB unstable/JJ man/NN undergoing/VBG psychotherapy/NN saves/VBZ a/DT boy/NN from/IN a/DT potentially/RB fatal/JJ accident/NN and/CC then/RB falls/VBZ in/IN love/NN with/IN the/DT boy/NN 's/POS mother/NN ,/, a/DT fledgling/NN restauranteur/NN ./.\n",
            "\n",
            "Number of word types: 47743\n",
            "Number of word tokens: 1512359\n",
            "\n",
            "Most common tokens:\n",
            "         , :    77842\n",
            "       the :    75948\n",
            "         . :    59027\n",
            "         a :    37583\n",
            "       and :    35235\n",
            "        of :    33864\n",
            "        to :    31601\n",
            "        is :    25972\n",
            "        in :    21563\n",
            "        's :    18043\n",
            "        it :    15904\n",
            "      that :    15820\n",
            "     -rrb- :    11768\n",
            "     -lrb- :    11670\n",
            "        as :    11312\n",
            "      with :    10739\n",
            "       for :     9816\n",
            "       his :     9542\n",
            "      this :     9497\n",
            "      film :     9404\n"
          ]
        }
      ],
      "source": [
        "# file structure:\n",
        "# [\n",
        "#  {\"cv\": integer, \"sentiment\": str, \"content\": list}\n",
        "#  {\"cv\": integer, \"sentiment\": str, \"content\": list}\n",
        "#   ..\n",
        "# ]\n",
        "# where `content` is a list of sentences,\n",
        "# with a sentence being a list of (token, pos_tag) pairs.\n",
        "\n",
        "\n",
        "with open(\"reviews.json\", mode=\"r\", encoding=\"utf-8\") as f:\n",
        "  reviews = json.load(f)\n",
        "\n",
        "print(\"Total number of reviews:\", len(reviews), '\\n')\n",
        "\n",
        "def print_sentence_with_pos(s):\n",
        "  print(\" \".join(\"%s/%s\" % (token, pos_tag) for token, pos_tag in s))\n",
        "\n",
        "for i, r in enumerate(reviews):\n",
        "  print(r[\"cv\"], r[\"sentiment\"], len(r[\"content\"]))  # cv, sentiment, num sents\n",
        "  print_sentence_with_pos(r[\"content\"][0])\n",
        "  if i == 4:\n",
        "    break\n",
        "\n",
        "c = Counter()\n",
        "for review in reviews:\n",
        "  for sentence in review[\"content\"]:\n",
        "    for token, pos_tag in sentence:\n",
        "      c[token.lower()] += 1\n",
        "\n",
        "print(\"\\nNumber of word types:\", len(c))\n",
        "print(\"Number of word tokens:\", sum(c.values()))\n",
        "\n",
        "print(\"\\nMost common tokens:\")\n",
        "for token, count in c.most_common(20):\n",
        "  print(\"%10s : %8d\" % (token, count))\n"
      ]
    },
    {
      "cell_type": "markdown",
      "metadata": {
        "id": "E6PWaEoh8B34"
      },
      "source": [
        "#(1) Lexicon-based approach (3.5pts)\n",
        "\n"
      ]
    },
    {
      "cell_type": "markdown",
      "metadata": {
        "id": "JsTSMb6ma4E8"
      },
      "source": [
        "A traditional approach to classify documents according to their sentiment is the lexicon-based approach. To implement this approach, you need a **sentiment lexicon**, i.e., a list of words annotated with a sentiment label (e.g., positive and negative, or a score from 0 to 5).\n",
        "\n",
        "In this practical, you will use the sentiment\n",
        "lexicon released by Wilson et al. (2005).\n",
        "\n",
        "> Theresa Wilson, Janyce Wiebe, and Paul Hoffmann\n",
        "(2005). [Recognizing Contextual Polarity in Phrase-Level Sentiment\n",
        "Analysis](http://www.aclweb.org/anthology/H/H05/H05-1044.pdf). HLT-EMNLP.\n",
        "\n",
        "Pay attention to all the information available in the sentiment lexicon. The field *word1* contains the lemma, *priorpolarity* contains the sentiment label (positive, negative, both, or neutral), *type* gives you the magnitude of the word's sentiment (strong or weak), and *pos1* gives you the part-of-speech tag of the lemma. Some lemmas can have multiple part-of-speech tags and thus multiple entries in the lexicon. The path of the lexicon file is `\"sent_lexicon\"`.\n"
      ]
    },
    {
      "cell_type": "code",
      "execution_count": 12,
      "metadata": {
        "colab": {
          "base_uri": "https://localhost:8080/"
        },
        "id": "Ogq0Eq2hQglh",
        "outputId": "1c26526d-399e-4558-a1b2-2fa771648f09"
      },
      "outputs": [
        {
          "name": "stdout",
          "output_type": "stream",
          "text": [
            "type=weaksubj len=1 word1=abandoned pos1=adj stemmed1=n priorpolarity=negative\n",
            "type=weaksubj len=1 word1=abandonment pos1=noun stemmed1=n priorpolarity=negative\n",
            "type=weaksubj len=1 word1=abandon pos1=verb stemmed1=y priorpolarity=negative\n",
            "type=strongsubj len=1 word1=abase pos1=verb stemmed1=y priorpolarity=negative\n",
            "type=strongsubj len=1 word1=abasement pos1=anypos stemmed1=y priorpolarity=negative\n"
          ]
        }
      ],
      "source": [
        "with open(\"sent_lexicon\", mode=\"r\", encoding=\"utf-8\") as f:\n",
        "  line_cnt = 0\n",
        "  for line in f:\n",
        "    print(line.strip())\n",
        "    line_cnt += 1\n",
        "    if line_cnt > 4:\n",
        "      break"
      ]
    },
    {
      "cell_type": "markdown",
      "metadata": {
        "id": "Mml4nOtIUBhn"
      },
      "source": [
        "Lexica such as this can be used to solve\n",
        "the classification task without using Machine Learning. For example, one might look up every word $w_1 ... w_n$ in a document, and compute a **binary score**\n",
        "$S_{binary}$ by counting how many words have a positive or a\n",
        "negative label in the sentiment lexicon $SLex$.\n",
        "\n",
        "$$S_{binary}(w_1 w_2 ... w_n) = \\sum_{i = 1}^{n}\\text{sign}(SLex\\big[w_i\\big])$$\n",
        "\n",
        "where $\\text{sign}(SLex\\big[w_i\\big])$ refers to the polarity of $w_i$.\n",
        "\n",
        "**Threshold.** On average, there are more positive than negative words per review (~7.13 more positive than negative per review) to take this bias into account you should use a threshold of **8** (roughly the bias itself) to make it harder to classify as positive.\n",
        "\n",
        "$$\n",
        "\\text{classify}(S_{binary}(w_1 w_2 ... w_n)) = \\bigg\\{\\begin{array}{ll}\n",
        "        \\text{positive} & \\text{if } S_{binary}(w_1w_2...w_n) > threshold\\\\\n",
        "        \\text{negative} & \\text{otherwise}\n",
        "        \\end{array}\n",
        "$$\n"
      ]
    },
    {
      "cell_type": "markdown",
      "metadata": {
        "id": "tOFnMvbeeZrc"
      },
      "source": [
        "#### (Q1.1) Implement this approach and report its classification accuracy. (1 pt)"
      ]
    },
    {
      "cell_type": "code",
      "execution_count": 201,
      "metadata": {},
      "outputs": [
        {
          "data": {
            "text/plain": [
              "{'abandoned': ['negative', 'weaksubj'],\n",
              " 'abandonment': ['negative', 'weaksubj'],\n",
              " 'abandon': ['negative', 'weaksubj'],\n",
              " 'abase': ['negative', 'strongsubj'],\n",
              " 'abasement': ['negative', 'strongsubj'],\n",
              " 'abash': ['negative', 'strongsubj'],\n",
              " 'abate': ['negative', 'weaksubj'],\n",
              " 'abdicate': ['negative', 'weaksubj'],\n",
              " 'aberration': ['negative', 'strongsubj'],\n",
              " 'abhor': ['negative', 'strongsubj'],\n",
              " 'abhorred': ['negative', 'strongsubj'],\n",
              " 'abhorrence': ['negative', 'strongsubj'],\n",
              " 'abhorrent': ['negative', 'strongsubj'],\n",
              " 'abhorrently': ['negative', 'strongsubj'],\n",
              " 'abhors': ['negative', 'strongsubj'],\n",
              " 'abidance': ['positive', 'strongsubj'],\n",
              " 'abide': ['positive', 'strongsubj'],\n",
              " 'abject': ['negative', 'strongsubj'],\n",
              " 'abjectly': ['negative', 'strongsubj'],\n",
              " 'abjure': ['negative', 'weaksubj'],\n",
              " 'abilities': ['positive', 'weaksubj'],\n",
              " 'ability': ['positive', 'weaksubj'],\n",
              " 'able': ['positive', 'weaksubj'],\n",
              " 'abnormal': ['negative', 'weaksubj'],\n",
              " 'abolish': ['negative', 'weaksubj'],\n",
              " 'abominable': ['negative', 'strongsubj'],\n",
              " 'abominably': ['negative', 'strongsubj'],\n",
              " 'abominate': ['negative', 'strongsubj'],\n",
              " 'abomination': ['negative', 'strongsubj'],\n",
              " 'above': ['positive', 'weaksubj'],\n",
              " 'above-average': ['positive', 'weaksubj'],\n",
              " 'abound': ['positive', 'weaksubj'],\n",
              " 'abrade': ['negative', 'weaksubj'],\n",
              " 'abrasive': ['negative', 'strongsubj'],\n",
              " 'abrupt': ['negative', 'weaksubj'],\n",
              " 'abscond': ['negative', 'strongsubj'],\n",
              " 'absence': ['negative', 'weaksubj'],\n",
              " 'absentee': ['negative', 'weaksubj'],\n",
              " 'absent-minded': ['negative', 'strongsubj'],\n",
              " 'absolve': ['positive', 'strongsubj'],\n",
              " 'absolute': ['neutral', 'strongsubj'],\n",
              " 'absolutely': ['neutral', 'strongsubj'],\n",
              " 'absorbed': ['neutral', 'weaksubj'],\n",
              " 'absurd': ['negative', 'strongsubj'],\n",
              " 'absurdity': ['negative', 'strongsubj'],\n",
              " 'absurdly': ['negative', 'strongsubj'],\n",
              " 'absurdness': ['negative', 'strongsubj'],\n",
              " 'abundant': ['positive', 'weaksubj'],\n",
              " 'abundance': ['positive', 'weaksubj'],\n",
              " 'abuse': ['negative', 'strongsubj'],\n",
              " 'abuses': ['negative', 'weaksubj'],\n",
              " 'abusive': ['negative', 'strongsubj'],\n",
              " 'abysmal': ['negative', 'strongsubj'],\n",
              " 'abysmally': ['negative', 'strongsubj'],\n",
              " 'abyss': ['negative', 'strongsubj'],\n",
              " 'accede': ['positive', 'strongsubj'],\n",
              " 'accentuate': ['neutral', 'strongsubj'],\n",
              " 'accept': ['positive', 'weaksubj'],\n",
              " 'acceptance': ['positive', 'weaksubj'],\n",
              " 'acceptable': ['positive', 'weaksubj'],\n",
              " 'accessible': ['positive', 'weaksubj'],\n",
              " 'accidental': ['negative', 'weaksubj'],\n",
              " 'acclaim': ['positive', 'strongsubj'],\n",
              " 'acclaimed': ['positive', 'strongsubj'],\n",
              " 'acclamation': ['positive', 'strongsubj'],\n",
              " 'accolade': ['positive', 'strongsubj'],\n",
              " 'accolades': ['positive', 'strongsubj'],\n",
              " 'accommodative': ['positive', 'weaksubj'],\n",
              " 'accomplish': ['positive', 'weaksubj'],\n",
              " 'accomplishment': ['positive', 'weaksubj'],\n",
              " 'accomplishments': ['positive', 'weaksubj'],\n",
              " 'accord': ['positive', 'weaksubj'],\n",
              " 'accordance': ['positive', 'weaksubj'],\n",
              " 'accordantly': ['positive', 'weaksubj'],\n",
              " 'accost': ['negative', 'weaksubj'],\n",
              " 'accountable': ['negative', 'weaksubj'],\n",
              " 'accurate': ['positive', 'weaksubj'],\n",
              " 'accurately': ['positive', 'weaksubj'],\n",
              " 'accursed': ['negative', 'strongsubj'],\n",
              " 'accusation': ['negative', 'strongsubj'],\n",
              " 'accusations': ['negative', 'strongsubj'],\n",
              " 'accuse': ['negative', 'strongsubj'],\n",
              " 'accuses': ['negative', 'strongsubj'],\n",
              " 'accusing': ['negative', 'strongsubj'],\n",
              " 'accusingly': ['negative', 'strongsubj'],\n",
              " 'acerbate': ['negative', 'strongsubj'],\n",
              " 'acerbic': ['negative', 'strongsubj'],\n",
              " 'acerbically': ['negative', 'strongsubj'],\n",
              " 'ache': ['negative', 'strongsubj'],\n",
              " 'achievable': ['positive', 'weaksubj'],\n",
              " 'achieve': ['positive', 'weaksubj'],\n",
              " 'achievement': ['positive', 'weaksubj'],\n",
              " 'achievements': ['positive', 'weaksubj'],\n",
              " 'acknowledge': ['positive', 'weaksubj'],\n",
              " 'acknowledgement': ['positive', 'weaksubj'],\n",
              " 'acquit': ['positive', 'weaksubj'],\n",
              " 'acrid': ['negative', 'strongsubj'],\n",
              " 'acridly': ['negative', 'strongsubj'],\n",
              " 'acridness': ['negative', 'strongsubj'],\n",
              " 'acrimonious': ['negative', 'strongsubj'],\n",
              " 'acrimoniously': ['negative', 'strongsubj'],\n",
              " 'acrimony': ['negative', 'strongsubj'],\n",
              " 'active': ['positive', 'weaksubj'],\n",
              " 'activist': ['neutral', 'strongsubj'],\n",
              " 'actual': ['neutral', 'strongsubj'],\n",
              " 'actuality': ['neutral', 'strongsubj'],\n",
              " 'actually': ['neutral', 'strongsubj'],\n",
              " 'acumen': ['positive', 'strongsubj'],\n",
              " 'adamant': ['negative', 'strongsubj'],\n",
              " 'adamantly': ['negative', 'strongsubj'],\n",
              " 'adaptable': ['positive', 'weaksubj'],\n",
              " 'adaptability': ['positive', 'weaksubj'],\n",
              " 'adaptive': ['positive', 'weaksubj'],\n",
              " 'addict': ['negative', 'weaksubj'],\n",
              " 'addiction': ['negative', 'weaksubj'],\n",
              " 'adept': ['positive', 'weaksubj'],\n",
              " 'adeptly': ['positive', 'weaksubj'],\n",
              " 'adequate': ['positive', 'weaksubj'],\n",
              " 'adherence': ['positive', 'weaksubj'],\n",
              " 'adherent': ['positive', 'weaksubj'],\n",
              " 'adhesion': ['positive', 'weaksubj'],\n",
              " 'admirable': ['positive', 'strongsubj'],\n",
              " 'admirer': ['positive', 'strongsubj'],\n",
              " 'admirably': ['positive', 'strongsubj'],\n",
              " 'admiration': ['positive', 'strongsubj'],\n",
              " 'admire': ['positive', 'strongsubj'],\n",
              " 'admiring': ['positive', 'strongsubj'],\n",
              " 'admiringly': ['positive', 'strongsubj'],\n",
              " 'admission': ['positive', 'weaksubj'],\n",
              " 'admit': ['positive', 'strongsubj'],\n",
              " 'admittedly': ['positive', 'strongsubj'],\n",
              " 'admonish': ['negative', 'strongsubj'],\n",
              " 'admonisher': ['negative', 'strongsubj'],\n",
              " 'admonishingly': ['negative', 'strongsubj'],\n",
              " 'admonishment': ['negative', 'strongsubj'],\n",
              " 'admonition': ['negative', 'strongsubj'],\n",
              " 'adolescents': ['neutral', 'strongsubj'],\n",
              " 'adorable': ['positive', 'strongsubj'],\n",
              " 'adore': ['positive', 'strongsubj'],\n",
              " 'adored': ['positive', 'strongsubj'],\n",
              " 'adorer': ['positive', 'strongsubj'],\n",
              " 'adoring': ['positive', 'strongsubj'],\n",
              " 'adoringly': ['positive', 'strongsubj'],\n",
              " 'adrift': ['negative', 'weaksubj'],\n",
              " 'adroit': ['positive', 'strongsubj'],\n",
              " 'adroitly': ['positive', 'strongsubj'],\n",
              " 'adulate': ['positive', 'strongsubj'],\n",
              " 'adulation': ['positive', 'strongsubj'],\n",
              " 'adulatory': ['positive', 'strongsubj'],\n",
              " 'adulterate': ['negative', 'strongsubj'],\n",
              " 'adulterated': ['negative', 'strongsubj'],\n",
              " 'adulteration': ['negative', 'strongsubj'],\n",
              " 'advanced': ['positive', 'weaksubj'],\n",
              " 'advantage': ['positive', 'weaksubj'],\n",
              " 'advantageous': ['positive', 'strongsubj'],\n",
              " 'advantages': ['positive', 'weaksubj'],\n",
              " 'adventure': ['positive', 'weaksubj'],\n",
              " 'adventuresome': ['positive', 'strongsubj'],\n",
              " 'adventurism': ['positive', 'strongsubj'],\n",
              " 'adventurous': ['positive', 'weaksubj'],\n",
              " 'adversarial': ['negative', 'weaksubj'],\n",
              " 'adversary': ['negative', 'weaksubj'],\n",
              " 'adverse': ['negative', 'weaksubj'],\n",
              " 'adversity': ['negative', 'strongsubj'],\n",
              " 'advice': ['positive', 'weaksubj'],\n",
              " 'advisable': ['positive', 'weaksubj'],\n",
              " 'advocate': ['positive', 'strongsubj'],\n",
              " 'advocacy': ['positive', 'strongsubj'],\n",
              " 'affable': ['positive', 'strongsubj'],\n",
              " 'affability': ['positive', 'weaksubj'],\n",
              " 'affably': ['positive', 'weaksubj'],\n",
              " 'affect': ['neutral', 'weaksubj'],\n",
              " 'affectation': ['negative', 'weaksubj'],\n",
              " 'affected': ['neutral', 'strongsubj'],\n",
              " 'affection': ['positive', 'strongsubj'],\n",
              " 'affectionate': ['positive', 'strongsubj'],\n",
              " 'affinity': ['positive', 'weaksubj'],\n",
              " 'affirm': ['positive', 'strongsubj'],\n",
              " 'affirmation': ['positive', 'strongsubj'],\n",
              " 'affirmative': ['positive', 'weaksubj'],\n",
              " 'afflict': ['negative', 'weaksubj'],\n",
              " 'affliction': ['negative', 'weaksubj'],\n",
              " 'afflictive': ['negative', 'strongsubj'],\n",
              " 'affluent': ['positive', 'weaksubj'],\n",
              " 'affluence': ['positive', 'weaksubj'],\n",
              " 'afford': ['positive', 'weaksubj'],\n",
              " 'affordable': ['positive', 'weaksubj'],\n",
              " 'affront': ['negative', 'strongsubj'],\n",
              " 'afloat': ['positive', 'weaksubj'],\n",
              " 'afraid': ['negative', 'strongsubj'],\n",
              " 'against': ['negative', 'weaksubj'],\n",
              " 'aggravate': ['negative', 'strongsubj'],\n",
              " 'aggravating': ['negative', 'strongsubj'],\n",
              " 'aggravation': ['negative', 'strongsubj'],\n",
              " 'aggression': ['negative', 'strongsubj'],\n",
              " 'aggressive': ['negative', 'strongsubj'],\n",
              " 'aggressiveness': ['negative', 'strongsubj'],\n",
              " 'aggressor': ['negative', 'strongsubj'],\n",
              " 'aggrieve': ['negative', 'strongsubj'],\n",
              " 'aggrieved': ['negative', 'strongsubj'],\n",
              " 'aghast': ['negative', 'strongsubj'],\n",
              " 'agile': ['positive', 'weaksubj'],\n",
              " 'agilely': ['positive', 'weaksubj'],\n",
              " 'agility': ['positive', 'weaksubj'],\n",
              " 'agitate': ['negative', 'strongsubj'],\n",
              " 'agitated': ['negative', 'strongsubj'],\n",
              " 'agitation': ['negative', 'strongsubj'],\n",
              " 'agitator': ['negative', 'strongsubj'],\n",
              " 'agonies': ['negative', 'strongsubj'],\n",
              " 'agonize': ['negative', 'strongsubj'],\n",
              " 'agonizing': ['negative', 'strongsubj'],\n",
              " 'agonizingly': ['negative', 'strongsubj'],\n",
              " 'agony': ['negative', 'strongsubj'],\n",
              " 'agree': ['positive', 'strongsubj'],\n",
              " 'agreeability': ['positive', 'strongsubj'],\n",
              " 'agreeable': ['positive', 'strongsubj'],\n",
              " 'agreeableness': ['positive', 'strongsubj'],\n",
              " 'agreeably': ['positive', 'strongsubj'],\n",
              " 'agreement': ['positive', 'weaksubj'],\n",
              " 'aha': ['neutral', 'strongsubj'],\n",
              " 'ail': ['negative', 'weaksubj'],\n",
              " 'ailment': ['negative', 'weaksubj'],\n",
              " 'aimless': ['negative', 'strongsubj'],\n",
              " 'air': ['neutral', 'strongsubj'],\n",
              " 'airs': ['negative', 'weaksubj'],\n",
              " 'alarm': ['negative', 'weaksubj'],\n",
              " 'alarmed': ['negative', 'strongsubj'],\n",
              " 'alarming': ['negative', 'strongsubj'],\n",
              " 'alarmingly': ['negative', 'strongsubj'],\n",
              " 'alas': ['negative', 'strongsubj'],\n",
              " 'alert': ['neutral', 'weaksubj'],\n",
              " 'alienate': ['negative', 'weaksubj'],\n",
              " 'alienated': ['negative', 'weaksubj'],\n",
              " 'alienation': ['negative', 'weaksubj'],\n",
              " 'all-time': ['neutral', 'weaksubj'],\n",
              " 'allay': ['positive', 'strongsubj'],\n",
              " 'allegation': ['negative', 'strongsubj'],\n",
              " 'allegations': ['negative', 'strongsubj'],\n",
              " 'allege': ['negative', 'weaksubj'],\n",
              " 'allegorize': ['neutral', 'strongsubj'],\n",
              " 'allergic': ['negative', 'weaksubj'],\n",
              " 'alleviate': ['positive', 'weaksubj'],\n",
              " 'alliance': ['neutral', 'strongsubj'],\n",
              " 'alliances': ['neutral', 'strongsubj'],\n",
              " 'allow': ['positive', 'weaksubj'],\n",
              " 'allowable': ['positive', 'weaksubj'],\n",
              " 'allure': ['positive', 'strongsubj'],\n",
              " 'alluring': ['positive', 'strongsubj'],\n",
              " 'alluringly': ['positive', 'strongsubj'],\n",
              " 'allusion': ['neutral', 'strongsubj'],\n",
              " 'allusions': ['neutral', 'strongsubj'],\n",
              " 'ally': ['positive', 'strongsubj'],\n",
              " 'almighty': ['positive', 'strongsubj'],\n",
              " 'aloof': ['negative', 'strongsubj'],\n",
              " 'altercation': ['negative', 'weaksubj'],\n",
              " 'although': ['negative', 'weaksubj'],\n",
              " 'altogether': ['neutral', 'strongsubj'],\n",
              " 'altruist': ['positive', 'strongsubj'],\n",
              " 'altruistic': ['positive', 'strongsubj'],\n",
              " 'altruistically': ['positive', 'strongsubj'],\n",
              " 'amaze': ['positive', 'strongsubj'],\n",
              " 'amazed': ['positive', 'strongsubj'],\n",
              " 'amazement': ['positive', 'strongsubj'],\n",
              " 'amazing': ['positive', 'strongsubj'],\n",
              " 'amazingly': ['positive', 'strongsubj'],\n",
              " 'ambiguous': ['negative', 'strongsubj'],\n",
              " 'ambiguity': ['negative', 'strongsubj'],\n",
              " 'ambitious': ['positive', 'weaksubj'],\n",
              " 'ambitiously': ['positive', 'weaksubj'],\n",
              " 'ambivalence': ['negative', 'strongsubj'],\n",
              " 'ambivalent': ['negative', 'strongsubj'],\n",
              " 'ambush': ['negative', 'weaksubj'],\n",
              " 'ameliorate': ['positive', 'strongsubj'],\n",
              " 'amenable': ['positive', 'strongsubj'],\n",
              " 'amenity': ['positive', 'weaksubj'],\n",
              " 'amiability': ['positive', 'strongsubj'],\n",
              " 'amiabily': ['positive', 'strongsubj'],\n",
              " 'amiable': ['positive', 'strongsubj'],\n",
              " 'amicability': ['positive', 'strongsubj'],\n",
              " 'amicable': ['positive', 'strongsubj'],\n",
              " 'amicably': ['positive', 'strongsubj'],\n",
              " 'amiss': ['negative', 'strongsubj'],\n",
              " 'amity': ['positive', 'weaksubj'],\n",
              " 'amnesty': ['positive', 'weaksubj'],\n",
              " 'amour': ['positive', 'strongsubj'],\n",
              " 'ample': ['positive', 'weaksubj'],\n",
              " 'amply': ['positive', 'weaksubj'],\n",
              " 'amplify': ['neutral', 'weaksubj'],\n",
              " 'amputate': ['negative', 'weaksubj'],\n",
              " 'amuse': ['positive', 'strongsubj'],\n",
              " 'amusement': ['positive', 'strongsubj'],\n",
              " 'amusing': ['positive', 'strongsubj'],\n",
              " 'amusingly': ['positive', 'strongsubj'],\n",
              " 'analytical': ['neutral', 'weaksubj'],\n",
              " 'anarchism': ['negative', 'strongsubj'],\n",
              " 'anarchist': ['negative', 'strongsubj'],\n",
              " 'anarchistic': ['negative', 'strongsubj'],\n",
              " 'anarchy': ['negative', 'strongsubj'],\n",
              " 'anemic': ['negative', 'weaksubj'],\n",
              " 'angel': ['positive', 'weaksubj'],\n",
              " 'angelic': ['positive', 'strongsubj'],\n",
              " 'anger': ['negative', 'strongsubj'],\n",
              " 'angrily': ['negative', 'strongsubj'],\n",
              " 'angriness': ['negative', 'strongsubj'],\n",
              " 'angry': ['negative', 'strongsubj'],\n",
              " 'anguish': ['negative', 'strongsubj'],\n",
              " 'annihilate': ['negative', 'strongsubj'],\n",
              " 'annihilation': ['negative', 'strongsubj'],\n",
              " 'animated': ['positive', 'weaksubj'],\n",
              " 'animosity': ['negative', 'strongsubj'],\n",
              " 'annoy': ['negative', 'strongsubj'],\n",
              " 'annoyance': ['negative', 'strongsubj'],\n",
              " 'annoyed': ['negative', 'strongsubj'],\n",
              " 'annoying': ['negative', 'strongsubj'],\n",
              " 'annoyingly': ['negative', 'strongsubj'],\n",
              " 'anomalous': ['negative', 'weaksubj'],\n",
              " 'anomaly': ['negative', 'weaksubj'],\n",
              " 'antagonism': ['negative', 'strongsubj'],\n",
              " 'antagonist': ['negative', 'weaksubj'],\n",
              " 'antagonistic': ['negative', 'strongsubj'],\n",
              " 'antagonize': ['negative', 'strongsubj'],\n",
              " 'anti-': ['negative', 'strongsubj'],\n",
              " 'anti-American': ['negative', 'strongsubj'],\n",
              " 'anti-Israeli': ['negative', 'strongsubj'],\n",
              " 'anti-Semites': ['negative', 'strongsubj'],\n",
              " 'anti-US': ['negative', 'strongsubj'],\n",
              " 'anti-occupation': ['negative', 'strongsubj'],\n",
              " 'anti-proliferation': ['negative', 'strongsubj'],\n",
              " 'anti-social': ['negative', 'strongsubj'],\n",
              " 'anti-white': ['negative', 'strongsubj'],\n",
              " 'antipathy': ['negative', 'strongsubj'],\n",
              " 'antiquated': ['negative', 'strongsubj'],\n",
              " 'antithetical': ['negative', 'strongsubj'],\n",
              " 'anxieties': ['negative', 'strongsubj'],\n",
              " 'anxiety': ['negative', 'strongsubj'],\n",
              " 'anxious': ['negative', 'strongsubj'],\n",
              " 'anxiously': ['negative', 'strongsubj'],\n",
              " 'anxiousness': ['negative', 'strongsubj'],\n",
              " 'anyhow': ['neutral', 'strongsubj'],\n",
              " 'anyway': ['neutral', 'strongsubj'],\n",
              " 'anyways': ['neutral', 'strongsubj'],\n",
              " 'apathetic': ['negative', 'strongsubj'],\n",
              " 'apathetically': ['negative', 'strongsubj'],\n",
              " 'apathy': ['negative', 'strongsubj'],\n",
              " 'ape': ['negative', 'strongsubj'],\n",
              " 'apocalypse': ['negative', 'strongsubj'],\n",
              " 'apocalyptic': ['negative', 'strongsubj'],\n",
              " 'apologist': ['negative', 'strongsubj'],\n",
              " 'apologists': ['negative', 'strongsubj'],\n",
              " 'apostle': ['positive', 'strongsubj'],\n",
              " 'apotheosis': ['positive', 'strongsubj'],\n",
              " 'appal': ['negative', 'strongsubj'],\n",
              " 'appall': ['negative', 'strongsubj'],\n",
              " 'appalled': ['negative', 'strongsubj'],\n",
              " 'appalling': ['negative', 'strongsubj'],\n",
              " 'appallingly': ['negative', 'strongsubj'],\n",
              " 'apparent': ['neutral', 'weaksubj'],\n",
              " 'apparently': ['neutral', 'weaksubj'],\n",
              " 'appeal': ['positive', 'weaksubj'],\n",
              " 'appealing': ['positive', 'strongsubj'],\n",
              " 'appear': ['neutral', 'weaksubj'],\n",
              " 'appearance': ['neutral', 'weaksubj'],\n",
              " 'appease': ['positive', 'weaksubj'],\n",
              " 'applaud': ['positive', 'strongsubj'],\n",
              " 'appreciable': ['positive', 'weaksubj'],\n",
              " 'appreciate': ['positive', 'strongsubj'],\n",
              " 'appreciation': ['positive', 'strongsubj'],\n",
              " 'appreciative': ['positive', 'strongsubj'],\n",
              " 'appreciatively': ['positive', 'strongsubj'],\n",
              " 'appreciativeness': ['positive', 'strongsubj'],\n",
              " 'apprehend': ['neutral', 'weaksubj'],\n",
              " 'apprehension': ['negative', 'strongsubj'],\n",
              " 'apprehensions': ['negative', 'strongsubj'],\n",
              " 'apprehensive': ['negative', 'strongsubj'],\n",
              " 'apprehensively': ['negative', 'strongsubj'],\n",
              " 'appropriate': ['positive', 'weaksubj'],\n",
              " 'approval': ['positive', 'weaksubj'],\n",
              " 'approve': ['positive', 'weaksubj'],\n",
              " 'apt': ['positive', 'weaksubj'],\n",
              " 'aptly': ['positive', 'weaksubj'],\n",
              " 'aptitude': ['positive', 'weaksubj'],\n",
              " 'arbitrary': ['negative', 'strongsubj'],\n",
              " 'arcane': ['negative', 'strongsubj'],\n",
              " 'archaic': ['negative', 'strongsubj'],\n",
              " 'ardent': ['positive', 'strongsubj'],\n",
              " 'ardently': ['positive', 'strongsubj'],\n",
              " 'ardor': ['positive', 'strongsubj'],\n",
              " 'arduous': ['negative', 'strongsubj'],\n",
              " 'arduously': ['negative', 'strongsubj'],\n",
              " 'aristocratic': ['positive', 'weaksubj'],\n",
              " 'argue': ['negative', 'strongsubj'],\n",
              " 'argument': ['negative', 'weaksubj'],\n",
              " 'argumentative': ['negative', 'strongsubj'],\n",
              " 'arguments': ['negative', 'weaksubj'],\n",
              " 'arousal': ['positive', 'strongsubj'],\n",
              " 'arouse': ['positive', 'strongsubj'],\n",
              " 'arousing': ['positive', 'strongsubj'],\n",
              " 'arresting': ['positive', 'strongsubj'],\n",
              " 'arrogance': ['negative', 'strongsubj'],\n",
              " 'arrogant': ['negative', 'strongsubj'],\n",
              " 'arrogantly': ['negative', 'strongsubj'],\n",
              " 'articulate': ['positive', 'strongsubj'],\n",
              " 'artificial': ['negative', 'weaksubj'],\n",
              " 'ascendant': ['positive', 'strongsubj'],\n",
              " 'ascertainable': ['positive', 'strongsubj'],\n",
              " 'ashamed': ['negative', 'strongsubj'],\n",
              " 'asinine': ['negative', 'strongsubj'],\n",
              " 'asininely': ['negative', 'strongsubj'],\n",
              " 'asinininity': ['negative', 'strongsubj'],\n",
              " 'askance': ['negative', 'strongsubj'],\n",
              " 'asperse': ['negative', 'strongsubj'],\n",
              " 'aspersion': ['negative', 'strongsubj'],\n",
              " 'aspersions': ['negative', 'strongsubj'],\n",
              " 'aspiration': ['positive', 'strongsubj'],\n",
              " 'aspirations': ['positive', 'strongsubj'],\n",
              " 'aspire': ['positive', 'strongsubj'],\n",
              " 'assail': ['negative', 'weaksubj'],\n",
              " 'assassinate': ['negative', 'weaksubj'],\n",
              " 'assassin': ['negative', 'strongsubj'],\n",
              " 'assault': ['negative', 'weaksubj'],\n",
              " 'assent': ['positive', 'strongsubj'],\n",
              " 'assertions': ['positive', 'strongsubj'],\n",
              " 'assertive': ['positive', 'weaksubj'],\n",
              " 'assess': ['neutral', 'strongsubj'],\n",
              " 'assessment': ['neutral', 'weaksubj'],\n",
              " 'assessments': ['neutral', 'weaksubj'],\n",
              " 'asset': ['positive', 'weaksubj'],\n",
              " 'assiduous': ['positive', 'strongsubj'],\n",
              " 'assiduously': ['positive', 'strongsubj'],\n",
              " 'assuage': ['positive', 'weaksubj'],\n",
              " 'assumption': ['neutral', 'weaksubj'],\n",
              " 'assurance': ['positive', 'weaksubj'],\n",
              " 'assurances': ['positive', 'weaksubj'],\n",
              " 'assure': ['positive', 'strongsubj'],\n",
              " 'assuredly': ['positive', 'strongsubj'],\n",
              " 'astonish': ['positive', 'strongsubj'],\n",
              " 'astonished': ['positive', 'strongsubj'],\n",
              " 'astonishing': ['positive', 'strongsubj'],\n",
              " 'astonishingly': ['positive', 'strongsubj'],\n",
              " 'astonishment': ['positive', 'strongsubj'],\n",
              " 'astound': ['positive', 'strongsubj'],\n",
              " 'astounded': ['positive', 'strongsubj'],\n",
              " 'astounding': ['positive', 'strongsubj'],\n",
              " 'astoundingly': ['positive', 'strongsubj'],\n",
              " 'astray': ['negative', 'weaksubj'],\n",
              " 'astronomic': ['neutral', 'strongsubj'],\n",
              " 'astronomical': ['neutral', 'strongsubj'],\n",
              " 'astronomically': ['neutral', 'strongsubj'],\n",
              " 'astute': ['positive', 'strongsubj'],\n",
              " 'astutely': ['positive', 'strongsubj'],\n",
              " 'asunder': ['negative', 'strongsubj'],\n",
              " 'asylum': ['positive', 'weaksubj'],\n",
              " 'atrocious': ['negative', 'strongsubj'],\n",
              " 'atrocities': ['negative', 'strongsubj'],\n",
              " 'atrocity': ['negative', 'strongsubj'],\n",
              " 'atrophy': ['negative', 'strongsubj'],\n",
              " 'attack': ['negative', 'weaksubj'],\n",
              " 'attain': ['positive', 'weaksubj'],\n",
              " 'attainable': ['positive', 'weaksubj'],\n",
              " 'attentive': ['positive', 'strongsubj'],\n",
              " 'attest': ['positive', 'strongsubj'],\n",
              " 'attitude': ['neutral', 'strongsubj'],\n",
              " 'attitudes': ['neutral', 'weaksubj'],\n",
              " 'attraction': ['positive', 'strongsubj'],\n",
              " 'attractive': ['positive', 'strongsubj'],\n",
              " 'attractively': ['positive', 'strongsubj'],\n",
              " 'attune': ['positive', 'weaksubj'],\n",
              " 'audacious': ['negative', 'strongsubj'],\n",
              " 'audaciously': ['negative', 'strongsubj'],\n",
              " 'audaciousness': ['negative', 'strongsubj'],\n",
              " 'audacity': ['negative', 'strongsubj'],\n",
              " 'auspicious': ['positive', 'strongsubj'],\n",
              " 'austere': ['negative', 'strongsubj'],\n",
              " 'authentic': ['positive', 'weaksubj'],\n",
              " 'authoritarian': ['negative', 'weaksubj'],\n",
              " 'authoritative': ['positive', 'weaksubj'],\n",
              " 'autocrat': ['negative', 'strongsubj'],\n",
              " 'autocratic': ['negative', 'strongsubj'],\n",
              " 'award': ['positive', 'weaksubj'],\n",
              " 'awareness': ['neutral', 'strongsubj'],\n",
              " 'aware': ['neutral', 'strongsubj'],\n",
              " 'autonomous': ['positive', 'weaksubj'],\n",
              " 'avalanche': ['negative', 'strongsubj'],\n",
              " 'avarice': ['negative', 'strongsubj'],\n",
              " 'avaricious': ['negative', 'strongsubj'],\n",
              " 'avariciously': ['negative', 'strongsubj'],\n",
              " 'avenge': ['negative', 'strongsubj'],\n",
              " 'aver': ['positive', 'strongsubj'],\n",
              " 'averse': ['negative', 'strongsubj'],\n",
              " 'aversion': ['negative', 'strongsubj'],\n",
              " 'avid': ['positive', 'strongsubj'],\n",
              " 'avidly': ['positive', 'strongsubj'],\n",
              " 'avoid': ['negative', 'weaksubj'],\n",
              " 'avoidance': ['negative', 'weaksubj'],\n",
              " 'awe': ['positive', 'strongsubj'],\n",
              " 'awed': ['positive', 'strongsubj'],\n",
              " 'awesome': ['positive', 'strongsubj'],\n",
              " 'awesomely': ['positive', 'strongsubj'],\n",
              " 'awesomeness': ['positive', 'strongsubj'],\n",
              " 'awestruck': ['positive', 'strongsubj'],\n",
              " 'awful': ['negative', 'strongsubj'],\n",
              " 'awfully': ['negative', 'strongsubj'],\n",
              " 'awfulness': ['negative', 'strongsubj'],\n",
              " 'awkward': ['negative', 'strongsubj'],\n",
              " 'awkwardness': ['negative', 'strongsubj'],\n",
              " 'ax': ['negative', 'strongsubj'],\n",
              " 'babble': ['negative', 'strongsubj'],\n",
              " 'baby': ['neutral', 'strongsubj'],\n",
              " 'back': ['positive', 'weaksubj'],\n",
              " 'backbite': ['negative', 'strongsubj'],\n",
              " 'backbiting': ['negative', 'strongsubj'],\n",
              " 'backbone': ['positive', 'weaksubj'],\n",
              " 'backward': ['negative', 'strongsubj'],\n",
              " 'backwardness': ['negative', 'strongsubj'],\n",
              " 'bad': ['negative', 'strongsubj'],\n",
              " 'badly': ['negative', 'strongsubj'],\n",
              " 'baffle': ['negative', 'strongsubj'],\n",
              " 'baffled': ['negative', 'strongsubj'],\n",
              " 'bafflement': ['negative', 'strongsubj'],\n",
              " 'baffling': ['negative', 'strongsubj'],\n",
              " 'bait': ['negative', 'strongsubj'],\n",
              " 'balanced': ['positive', 'weaksubj'],\n",
              " 'balk': ['negative', 'strongsubj'],\n",
              " 'banal': ['negative', 'strongsubj'],\n",
              " 'banalize': ['negative', 'strongsubj'],\n",
              " 'bane': ['negative', 'strongsubj'],\n",
              " 'banish': ['negative', 'strongsubj'],\n",
              " 'banishment': ['negative', 'strongsubj'],\n",
              " 'bankrupt': ['negative', 'weaksubj'],\n",
              " 'bar': ['negative', 'weaksubj'],\n",
              " 'barbarian': ['negative', 'strongsubj'],\n",
              " 'barbaric': ['negative', 'strongsubj'],\n",
              " 'barbarically': ['negative', 'strongsubj'],\n",
              " 'barbarity': ['negative', 'strongsubj'],\n",
              " 'barbarous': ['negative', 'strongsubj'],\n",
              " 'barbarously': ['negative', 'strongsubj'],\n",
              " 'barely': ['negative', 'weaksubj'],\n",
              " 'bargain': ['positive', 'strongsubj'],\n",
              " 'barren': ['negative', 'strongsubj'],\n",
              " 'baseless': ['negative', 'strongsubj'],\n",
              " 'bashful': ['negative', 'strongsubj'],\n",
              " 'basic': ['positive', 'weaksubj'],\n",
              " 'basically': ['neutral', 'weaksubj'],\n",
              " 'bask': ['positive', 'weaksubj'],\n",
              " 'bastard': ['negative', 'strongsubj'],\n",
              " 'batons': ['neutral', 'weaksubj'],\n",
              " 'battered': ['negative', 'weaksubj'],\n",
              " 'battering': ['negative', 'weaksubj'],\n",
              " 'battle': ['negative', 'weaksubj'],\n",
              " 'battle-lines': ['negative', 'strongsubj'],\n",
              " 'battlefield': ['negative', 'weaksubj'],\n",
              " 'battleground': ['negative', 'strongsubj'],\n",
              " 'batty': ['negative', 'strongsubj'],\n",
              " 'beacon': ['positive', 'weaksubj'],\n",
              " 'bearish': ['negative', 'weaksubj'],\n",
              " 'beast': ['negative', 'strongsubj'],\n",
              " 'beastly': ['negative', 'strongsubj'],\n",
              " 'beatify': ['positive', 'strongsubj'],\n",
              " 'beauteous': ['positive', 'strongsubj'],\n",
              " 'beautiful': ['positive', 'strongsubj'],\n",
              " 'beautifully': ['positive', 'strongsubj'],\n",
              " 'beautify': ['positive', 'strongsubj'],\n",
              " 'beauty': ['positive', 'strongsubj'],\n",
              " 'bedlam': ['negative', 'strongsubj'],\n",
              " 'bedlamite': ['negative', 'strongsubj'],\n",
              " 'befit': ['positive', 'strongsubj'],\n",
              " 'befitting': ['positive', 'strongsubj'],\n",
              " 'befoul': ['negative', 'strongsubj'],\n",
              " 'befriend': ['positive', 'strongsubj'],\n",
              " 'beg': ['negative', 'strongsubj'],\n",
              " 'beggar': ['negative', 'weaksubj'],\n",
              " 'beggarly': ['negative', 'strongsubj'],\n",
              " 'begging': ['negative', 'strongsubj'],\n",
              " 'beguile': ['negative', 'strongsubj'],\n",
              " 'belated': ['negative', 'weaksubj'],\n",
              " 'belabor': ['negative', 'strongsubj'],\n",
              " 'beleaguer': ['negative', 'strongsubj'],\n",
              " 'belie': ['negative', 'strongsubj'],\n",
              " 'belief': ['neutral', 'strongsubj'],\n",
              " 'beliefs': ['neutral', 'weaksubj'],\n",
              " 'believable': ['positive', 'strongsubj'],\n",
              " 'believe': ['neutral', 'strongsubj'],\n",
              " 'belittle': ['negative', 'strongsubj'],\n",
              " 'belittled': ['negative', 'strongsubj'],\n",
              " 'belittling': ['negative', 'strongsubj'],\n",
              " 'bellicose': ['negative', 'strongsubj'],\n",
              " 'belligerence': ['negative', 'strongsubj'],\n",
              " 'belligerent': ['negative', 'strongsubj'],\n",
              " 'belligerently': ['negative', 'strongsubj'],\n",
              " 'beloved': ['positive', 'strongsubj'],\n",
              " 'bemoan': ['negative', 'strongsubj'],\n",
              " 'bemoaning': ['negative', 'strongsubj'],\n",
              " 'bemused': ['negative', 'strongsubj'],\n",
              " 'benefactor': ['positive', 'weaksubj'],\n",
              " 'beneficial': ['positive', 'strongsubj'],\n",
              " 'beneficent': ['positive', 'strongsubj'],\n",
              " 'beneficially': ['positive', 'strongsubj'],\n",
              " 'beneficiary': ['positive', 'strongsubj'],\n",
              " 'benefit': ['positive', 'weaksubj'],\n",
              " 'benefits': ['positive', 'weaksubj'],\n",
              " 'benevolence': ['positive', 'strongsubj'],\n",
              " 'benevolent': ['positive', 'strongsubj'],\n",
              " 'benign': ['positive', 'weaksubj'],\n",
              " 'bent': ['negative', 'weaksubj'],\n",
              " 'berate': ['negative', 'strongsubj'],\n",
              " 'bereave': ['negative', 'strongsubj'],\n",
              " 'bereavement': ['negative', 'strongsubj'],\n",
              " 'bereft': ['negative', 'strongsubj'],\n",
              " 'berserk': ['negative', 'strongsubj'],\n",
              " 'beseech': ['negative', 'strongsubj'],\n",
              " 'beset': ['negative', 'weaksubj'],\n",
              " 'besides': ['neutral', 'strongsubj'],\n",
              " 'besiege': ['negative', 'weaksubj'],\n",
              " 'besmirch': ['negative', 'strongsubj'],\n",
              " 'best': ['positive', 'strongsubj'],\n",
              " 'best-known': ['positive', 'strongsubj'],\n",
              " 'best-performing': ['positive', 'strongsubj'],\n",
              " 'best-selling': ['positive', 'weaksubj'],\n",
              " 'bestial': ['negative', 'strongsubj'],\n",
              " 'betray': ['negative', 'strongsubj'],\n",
              " 'betrayal': ['negative', 'strongsubj'],\n",
              " 'betrayals': ['negative', 'strongsubj'],\n",
              " 'betrayer': ['negative', 'strongsubj'],\n",
              " 'better': ['positive', 'weaksubj'],\n",
              " 'better-known': ['positive', 'strongsubj'],\n",
              " 'better-than-expected': ['positive', 'strongsubj'],\n",
              " 'bewail': ['negative', 'strongsubj'],\n",
              " 'beware': ['negative', 'weaksubj'],\n",
              " 'bewilder': ['negative', 'strongsubj'],\n",
              " 'bewildered': ['negative', 'strongsubj'],\n",
              " 'bewildering': ['negative', 'strongsubj'],\n",
              " 'bewilderingly': ['negative', 'strongsubj'],\n",
              " 'bewilderment': ['negative', 'strongsubj'],\n",
              " 'bewitch': ['negative', 'strongsubj'],\n",
              " 'bias': ['negative', 'strongsubj'],\n",
              " 'biased': ['negative', 'strongsubj'],\n",
              " 'biases': ['negative', 'strongsubj'],\n",
              " 'bicker': ['negative', 'strongsubj'],\n",
              " 'bickering': ['negative', 'strongsubj'],\n",
              " 'bid-rigging': ['negative', 'weaksubj'],\n",
              " 'big': ['neutral', 'weaksubj'],\n",
              " 'bitch': ['negative', 'strongsubj'],\n",
              " 'bitchy': ['negative', 'strongsubj'],\n",
              " 'biting': ['negative', 'strongsubj'],\n",
              " 'bitingly': ['negative', 'strongsubj'],\n",
              " 'bitter': ['negative', 'strongsubj'],\n",
              " 'bitterly': ['negative', 'strongsubj'],\n",
              " 'bitterness': ['negative', 'strongsubj'],\n",
              " 'bizarre': ['negative', 'strongsubj'],\n",
              " 'blab': ['negative', 'strongsubj'],\n",
              " 'blabber': ['negative', 'strongsubj'],\n",
              " 'black': ['negative', 'weaksubj'],\n",
              " 'blackmail': ['negative', 'weaksubj'],\n",
              " 'blah': ['negative', 'strongsubj'],\n",
              " 'blame': ['negative', 'strongsubj'],\n",
              " 'blameless': ['positive', 'strongsubj'],\n",
              " 'blameworthy': ['negative', 'strongsubj'],\n",
              " 'bland': ['negative', 'strongsubj'],\n",
              " 'blandish': ['negative', 'strongsubj'],\n",
              " 'blaspheme': ['negative', 'strongsubj'],\n",
              " 'blasphemous': ['negative', 'strongsubj'],\n",
              " 'blasphemy': ['negative', 'strongsubj'],\n",
              " 'blast': ['negative', 'weaksubj'],\n",
              " 'blasted': ['negative', 'strongsubj'],\n",
              " 'blatant': ['negative', 'strongsubj'],\n",
              " 'blatantly': ['negative', 'strongsubj'],\n",
              " 'blather': ['negative', 'strongsubj'],\n",
              " 'bleak': ['negative', 'strongsubj'],\n",
              " 'bleakly': ['negative', 'strongsubj'],\n",
              " 'bleakness': ['negative', 'strongsubj'],\n",
              " 'bleed': ['negative', 'weaksubj'],\n",
              " 'blemish': ['negative', 'weaksubj'],\n",
              " 'bless': ['positive', 'strongsubj'],\n",
              " 'blessing': ['positive', 'strongsubj'],\n",
              " 'blind': ['negative', 'weaksubj'],\n",
              " 'blinding': ['negative', 'strongsubj'],\n",
              " 'blindingly': ['negative', 'strongsubj'],\n",
              " 'blindness': ['negative', 'weaksubj'],\n",
              " 'blindside': ['negative', 'strongsubj'],\n",
              " 'bliss': ['positive', 'strongsubj'],\n",
              " 'blissful': ['positive', 'strongsubj'],\n",
              " 'blissfully': ['positive', 'strongsubj'],\n",
              " 'blister': ['negative', 'strongsubj'],\n",
              " 'blistering': ['negative', 'strongsubj'],\n",
              " 'blithe': ['positive', 'strongsubj'],\n",
              " 'bloated': ['negative', 'strongsubj'],\n",
              " 'block': ['negative', 'weaksubj'],\n",
              " 'blockhead': ['negative', 'strongsubj'],\n",
              " 'blood': ['negative', 'weaksubj'],\n",
              " 'bloodshed': ['negative', 'strongsubj'],\n",
              " 'bloodthirsty': ['negative', 'strongsubj'],\n",
              " 'bloody': ['negative', 'weaksubj'],\n",
              " 'bloom': ['positive', 'weaksubj'],\n",
              " 'blossom': ['positive', 'weaksubj'],\n",
              " 'blow': ['negative', 'weaksubj'],\n",
              " 'blunder': ['negative', 'strongsubj'],\n",
              " 'blundering': ['negative', 'strongsubj'],\n",
              " 'blunders': ['negative', 'strongsubj'],\n",
              " 'blunt': ['negative', 'strongsubj'],\n",
              " 'blur': ['negative', 'weaksubj'],\n",
              " 'blurt': ['negative', 'strongsubj'],\n",
              " 'boast': ['negative', 'strongsubj'],\n",
              " 'boastful': ['negative', 'strongsubj'],\n",
              " 'boggle': ['negative', 'strongsubj'],\n",
              " 'bogus': ['negative', 'strongsubj'],\n",
              " 'boil': ['negative', 'strongsubj'],\n",
              " 'boiling': ['negative', 'strongsubj'],\n",
              " 'boisterous': ['negative', 'strongsubj'],\n",
              " 'bold': ['positive', 'strongsubj'],\n",
              " 'boldly': ['positive', 'strongsubj'],\n",
              " 'boldness': ['positive', 'strongsubj'],\n",
              " 'bolster': ['positive', 'strongsubj'],\n",
              " 'bombard': ['negative', 'weaksubj'],\n",
              " 'bomb': ['negative', 'weaksubj'],\n",
              " 'bombardment': ['negative', 'strongsubj'],\n",
              " 'bombastic': ['negative', 'strongsubj'],\n",
              " 'bondage': ['negative', 'strongsubj'],\n",
              " 'bonkers': ['negative', 'strongsubj'],\n",
              " 'bonny': ['positive', 'strongsubj'],\n",
              " 'bonus': ['positive', 'weaksubj'],\n",
              " 'boom': ['positive', 'weaksubj'],\n",
              " 'booming': ['positive', 'weaksubj'],\n",
              " 'boost': ['positive', 'weaksubj'],\n",
              " 'bore': ['negative', 'strongsubj'],\n",
              " 'boredom': ['negative', 'strongsubj'],\n",
              " 'boring': ['negative', 'strongsubj'],\n",
              " 'botch': ['negative', 'strongsubj'],\n",
              " 'bother': ['negative', 'strongsubj'],\n",
              " 'bothersome': ['negative', 'strongsubj'],\n",
              " 'boundless': ['positive', 'strongsubj'],\n",
              " 'bountiful': ['positive', 'strongsubj'],\n",
              " 'bowdlerize': ['negative', 'strongsubj'],\n",
              " 'boycott': ['negative', 'weaksubj'],\n",
              " 'brag': ['both', 'strongsubj'],\n",
              " 'braggart': ['negative', 'strongsubj'],\n",
              " 'bragger': ['negative', 'strongsubj'],\n",
              " 'brains': ['positive', 'strongsubj'],\n",
              " 'brainwash': ['negative', 'strongsubj'],\n",
              " 'brainy': ['positive', 'strongsubj'],\n",
              " 'brash': ['negative', 'strongsubj'],\n",
              " 'brashly': ['negative', 'strongsubj'],\n",
              " 'brashness': ['negative', 'strongsubj'],\n",
              " 'brat': ['negative', 'strongsubj'],\n",
              " 'bravado': ['negative', 'strongsubj'],\n",
              " 'brave': ['positive', 'strongsubj'],\n",
              " 'bravery': ['positive', 'strongsubj'],\n",
              " 'brazen': ['negative', 'strongsubj'],\n",
              " 'brazenly': ['negative', 'strongsubj'],\n",
              " 'brazenness': ['negative', 'strongsubj'],\n",
              " 'breach': ['negative', 'weaksubj'],\n",
              " 'break': ['negative', 'weaksubj'],\n",
              " 'break-point': ['negative', 'strongsubj'],\n",
              " 'breakdown': ['negative', 'weaksubj'],\n",
              " 'breakthrough': ['positive', 'weaksubj'],\n",
              " 'breakthroughs': ['positive', 'weaksubj'],\n",
              " 'breathlessness': ['positive', 'strongsubj'],\n",
              " 'breathtaking': ['positive', 'strongsubj'],\n",
              " 'breathtakingly': ['positive', 'strongsubj'],\n",
              " 'bright': ['positive', 'weaksubj'],\n",
              " 'brighten': ['positive', 'weaksubj'],\n",
              " 'brightness': ['positive', 'weaksubj'],\n",
              " 'brilliance': ['positive', 'weaksubj'],\n",
              " 'brilliant': ['positive', 'strongsubj'],\n",
              " 'brilliantly': ['positive', 'strongsubj'],\n",
              " 'brimstone': ['negative', 'strongsubj'],\n",
              " 'brisk': ['positive', 'weaksubj'],\n",
              " 'bristle': ['negative', 'strongsubj'],\n",
              " 'brittle': ['negative', 'weaksubj'],\n",
              " 'broad': ['positive', 'weaksubj'],\n",
              " 'broad-based': ['neutral', 'weaksubj'],\n",
              " 'broke': ['negative', 'weaksubj'],\n",
              " 'broken-hearted': ['negative', 'strongsubj'],\n",
              " 'brood': ['negative', 'strongsubj'],\n",
              " 'brook': ['positive', 'strongsubj'],\n",
              " 'brotherly': ['positive', 'weaksubj'],\n",
              " 'browbeat': ['negative', 'strongsubj'],\n",
              " 'bruise': ['negative', 'weaksubj'],\n",
              " 'brusque': ['negative', 'strongsubj'],\n",
              " 'brutal': ['negative', 'strongsubj'],\n",
              " 'brutalising': ['negative', 'strongsubj'],\n",
              " 'brutalities': ['negative', 'strongsubj'],\n",
              " 'brutality': ['negative', 'strongsubj'],\n",
              " 'brutalize': ['negative', 'strongsubj'],\n",
              " 'brutalizing': ['negative', 'strongsubj'],\n",
              " 'brutally': ['negative', 'strongsubj'],\n",
              " 'brute': ['negative', 'strongsubj'],\n",
              " 'brutish': ['negative', 'strongsubj'],\n",
              " 'bug': ['negative', 'weaksubj'],\n",
              " 'buckle': ['negative', 'weaksubj'],\n",
              " 'bulky': ['negative', 'weaksubj'],\n",
              " 'bull': ['positive', 'weaksubj'],\n",
              " 'bullies': ['negative', 'strongsubj'],\n",
              " 'bullish': ['positive', 'weaksubj'],\n",
              " 'bully': ['negative', 'strongsubj'],\n",
              " 'bullyingly': ['negative', 'strongsubj'],\n",
              " 'bum': ['negative', 'weaksubj'],\n",
              " 'bumpy': ['negative', 'weaksubj'],\n",
              " 'bungle': ['negative', 'strongsubj'],\n",
              " 'bungler': ['negative', 'strongsubj'],\n",
              " 'bunk': ['negative', 'weaksubj'],\n",
              " 'buoyant': ['positive', 'weaksubj'],\n",
              " 'burden': ['negative', 'strongsubj'],\n",
              " 'burdensome': ['negative', 'strongsubj'],\n",
              " 'burdensomely': ['negative', 'strongsubj'],\n",
              " 'burn': ['negative', 'strongsubj'],\n",
              " 'busy': ['negative', 'weaksubj'],\n",
              " 'busybody': ['negative', 'strongsubj'],\n",
              " 'butcher': ['negative', 'weaksubj'],\n",
              " 'butchery': ['negative', 'strongsubj'],\n",
              " 'byzantine': ['negative', 'strongsubj'],\n",
              " 'cackle': ['negative', 'strongsubj'],\n",
              " 'cajole': ['negative', 'strongsubj'],\n",
              " 'calamities': ['negative', 'strongsubj'],\n",
              " 'calamitous': ['negative', 'strongsubj'],\n",
              " 'calamitously': ['negative', 'strongsubj'],\n",
              " 'calamity': ['negative', 'strongsubj'],\n",
              " 'callous': ['negative', 'strongsubj'],\n",
              " 'calm': ['positive', 'weaksubj'],\n",
              " 'calming': ['positive', 'strongsubj'],\n",
              " 'calmness': ['positive', 'weaksubj'],\n",
              " 'calumniate': ['negative', 'strongsubj'],\n",
              " 'calumniation': ['negative', 'strongsubj'],\n",
              " 'calumnies': ['negative', 'strongsubj'],\n",
              " 'calumnious': ['negative', 'strongsubj'],\n",
              " 'calumniously': ['negative', 'strongsubj'],\n",
              " 'calumny': ['negative', 'strongsubj'],\n",
              " 'cancer': ['negative', 'weaksubj'],\n",
              " 'cancerous': ['negative', 'weaksubj'],\n",
              " 'candid': ['positive', 'strongsubj'],\n",
              " 'candor': ['positive', 'strongsubj'],\n",
              " 'cannibal': ['negative', 'strongsubj'],\n",
              " 'cannibalize': ['negative', 'strongsubj'],\n",
              " 'capable': ['positive', 'weaksubj'],\n",
              " 'capability': ['positive', 'weaksubj'],\n",
              " 'capably': ['positive', 'weaksubj'],\n",
              " 'capitalize': ['positive', 'weaksubj'],\n",
              " 'capitulate': ['negative', 'weaksubj'],\n",
              " 'capricious': ['negative', 'strongsubj'],\n",
              " 'capriciously': ['negative', 'strongsubj'],\n",
              " 'capriciousness': ['negative', 'strongsubj'],\n",
              " 'capsize': ['negative', 'weaksubj'],\n",
              " 'captivate': ['positive', 'strongsubj'],\n",
              " 'captivating': ['positive', 'strongsubj'],\n",
              " 'captivation': ['positive', 'strongsubj'],\n",
              " 'captive': ['negative', 'weaksubj'],\n",
              " 'care': ['positive', 'weaksubj'],\n",
              " 'carefree': ['positive', 'strongsubj'],\n",
              " 'careful': ['positive', 'weaksubj'],\n",
              " 'careless': ['negative', 'strongsubj'],\n",
              " 'carelessness': ['negative', 'strongsubj'],\n",
              " 'caricature': ['negative', 'strongsubj'],\n",
              " 'carnage': ['negative', 'strongsubj'],\n",
              " 'carp': ['negative', 'strongsubj'],\n",
              " 'cartoon': ['negative', 'weaksubj'],\n",
              " 'cartoonish': ['negative', 'strongsubj'],\n",
              " 'cash-strapped': ['negative', 'weaksubj'],\n",
              " 'castigate': ['negative', 'strongsubj'],\n",
              " 'casualty': ['negative', 'weaksubj'],\n",
              " 'cataclysm': ['negative', 'strongsubj'],\n",
              " 'cataclysmal': ['negative', 'strongsubj'],\n",
              " 'cataclysmic': ['negative', 'strongsubj'],\n",
              " 'cataclysmically': ['negative', 'strongsubj'],\n",
              " 'catalyst': ['positive', 'strongsubj'],\n",
              " 'catastrophe': ['negative', 'strongsubj'],\n",
              " 'catastrophes': ['negative', 'strongsubj'],\n",
              " 'catastrophic': ['negative', 'strongsubj'],\n",
              " 'catastrophically': ['negative', 'strongsubj'],\n",
              " 'catchy': ['positive', 'strongsubj'],\n",
              " 'caustic': ['negative', 'strongsubj'],\n",
              " 'caustically': ['negative', 'strongsubj'],\n",
              " 'cautionary': ['negative', 'strongsubj'],\n",
              " 'cautious': ['negative', 'weaksubj'],\n",
              " 'cave': ['negative', 'weaksubj'],\n",
              " 'ceaseless': ['neutral', 'weaksubj'],\n",
              " 'celebrate': ['positive', 'strongsubj'],\n",
              " 'celebrated': ['positive', 'strongsubj'],\n",
              " 'celebration': ['positive', 'strongsubj'],\n",
              " 'celebratory': ['positive', 'strongsubj'],\n",
              " 'celebrity': ['positive', 'weaksubj'],\n",
              " 'censure': ['negative', 'strongsubj'],\n",
              " 'central': ['neutral', 'weaksubj'],\n",
              " 'certain': ['neutral', 'weaksubj'],\n",
              " 'certainly': ['neutral', 'strongsubj'],\n",
              " 'certified': ['neutral', 'weaksubj'],\n",
              " 'chafe': ['negative', 'strongsubj'],\n",
              " 'chaff': ['negative', 'strongsubj'],\n",
              " 'chagrin': ['negative', 'strongsubj'],\n",
              " 'challenge': ['negative', 'weaksubj'],\n",
              " 'challenging': ['negative', 'weaksubj'],\n",
              " 'champion': ['positive', 'weaksubj'],\n",
              " 'champ': ['positive', 'weaksubj'],\n",
              " 'chant': ['neutral', 'weaksubj'],\n",
              " 'chaos': ['negative', 'strongsubj'],\n",
              " 'chaotic': ['negative', 'strongsubj'],\n",
              " 'charisma': ['negative', 'strongsubj'],\n",
              " 'charismatic': ['positive', 'strongsubj'],\n",
              " 'charitable': ['positive', 'weaksubj'],\n",
              " 'charity': ['positive', 'weaksubj'],\n",
              " 'charm': ['positive', 'strongsubj'],\n",
              " 'charming': ['positive', 'strongsubj'],\n",
              " 'charmingly': ['positive', 'strongsubj'],\n",
              " 'chaste': ['positive', 'strongsubj'],\n",
              " 'chasten': ['negative', 'strongsubj'],\n",
              " 'chastise': ['negative', 'strongsubj'],\n",
              " 'chastisement': ['negative', 'strongsubj'],\n",
              " 'chatter': ['negative', 'strongsubj'],\n",
              " 'chatterbox': ['negative', 'strongsubj'],\n",
              " 'cheapen': ['negative', 'strongsubj'],\n",
              " 'cheap': ['negative', 'strongsubj'],\n",
              " 'cheat': ['negative', 'strongsubj'],\n",
              " 'cheater': ['negative', 'strongsubj'],\n",
              " 'cheer': ['positive', 'strongsubj'],\n",
              " 'cheery': ['positive', 'strongsubj'],\n",
              " 'cheerful': ['positive', 'strongsubj'],\n",
              " 'cheerless': ['negative', 'strongsubj'],\n",
              " 'cherish': ['positive', 'strongsubj'],\n",
              " 'cherished': ['positive', 'strongsubj'],\n",
              " 'cherub': ['positive', 'strongsubj'],\n",
              " 'chic': ['positive', 'strongsubj'],\n",
              " 'chide': ['negative', 'strongsubj'],\n",
              " 'childish': ['negative', 'strongsubj'],\n",
              " 'chill': ['negative', 'weaksubj'],\n",
              " 'chilly': ['negative', 'weaksubj'],\n",
              " 'chit': ['negative', 'strongsubj'],\n",
              " 'chivalry': ['positive', 'strongsubj'],\n",
              " 'chivalrous': ['positive', 'strongsubj'],\n",
              " 'choppy': ['negative', 'weaksubj'],\n",
              " 'choke': ['negative', 'weaksubj'],\n",
              " 'chore': ['negative', 'weaksubj'],\n",
              " 'chronic': ['negative', 'weaksubj'],\n",
              " 'chum': ['positive', 'weaksubj'],\n",
              " 'civility': ['positive', 'strongsubj'],\n",
              " 'civilization': ['positive', 'weaksubj'],\n",
              " 'civilize': ['positive', 'weaksubj'],\n",
              " 'civil': ['positive', 'weaksubj'],\n",
              " 'claim': ['neutral', 'weaksubj'],\n",
              " 'clamor': ['negative', 'weaksubj'],\n",
              " 'clamorous': ['negative', 'weaksubj'],\n",
              " 'clandestine': ['neutral', 'weaksubj'],\n",
              " 'clarity': ['positive', 'weaksubj'],\n",
              " 'clash': ['negative', 'weaksubj'],\n",
              " 'classic': ['positive', 'weaksubj'],\n",
              " 'clean': ['positive', 'weaksubj'],\n",
              " 'cleanliness': ['positive', 'weaksubj'],\n",
              " 'cleanse': ['positive', 'weaksubj'],\n",
              " 'clear': ['positive', 'weaksubj'],\n",
              " 'clear-cut': ['positive', 'strongsubj'],\n",
              " 'clearer': ['positive', 'strongsubj'],\n",
              " 'clearly': ['positive', 'strongsubj'],\n",
              " 'clever': ['positive', 'strongsubj'],\n",
              " 'cliche': ['negative', 'strongsubj'],\n",
              " 'cliched': ['negative', 'strongsubj'],\n",
              " 'clique': ['negative', 'weaksubj'],\n",
              " 'clog': ['negative', 'weaksubj'],\n",
              " 'close': ['negative', 'weaksubj'],\n",
              " 'closeness': ['positive', 'strongsubj'],\n",
              " 'cloud': ['negative', 'strongsubj'],\n",
              " 'clout': ['positive', 'strongsubj'],\n",
              " 'clumsy': ['negative', 'strongsubj'],\n",
              " 'co-operation': ['positive', 'weaksubj'],\n",
              " 'coarse': ['negative', 'weaksubj'],\n",
              " 'coax': ['positive', 'strongsubj'],\n",
              " 'cocky': ['negative', 'strongsubj'],\n",
              " 'coddle': ['positive', 'weaksubj'],\n",
              " 'coerce': ['negative', 'strongsubj'],\n",
              " 'coercion': ['negative', 'strongsubj'],\n",
              " 'coercive': ['negative', 'strongsubj'],\n",
              " 'cogent': ['positive', 'strongsubj'],\n",
              " 'cohesive': ['positive', 'weaksubj'],\n",
              " 'cogitate': ['neutral', 'strongsubj'],\n",
              " 'cognizance': ['neutral', 'weaksubj'],\n",
              " 'cognizant': ['neutral', 'strongsubj'],\n",
              " 'cohere': ['positive', 'weaksubj'],\n",
              " 'coherence': ['positive', 'strongsubj'],\n",
              " 'coherent': ['positive', 'weaksubj'],\n",
              " 'cohesion': ['positive', 'weaksubj'],\n",
              " 'cold': ['negative', 'weaksubj'],\n",
              " 'coldly': ['negative', 'strongsubj'],\n",
              " 'collapse': ['negative', 'weaksubj'],\n",
              " 'collide': ['negative', 'weaksubj'],\n",
              " 'collude': ['negative', 'strongsubj'],\n",
              " 'collusion': ['negative', 'strongsubj'],\n",
              " 'colorful': ['positive', 'weaksubj'],\n",
              " 'colossal': ['positive', 'weaksubj'],\n",
              " 'combative': ['negative', 'weaksubj'],\n",
              " 'comeback': ['positive', 'weaksubj'],\n",
              " 'comedy': ['negative', 'weaksubj'],\n",
              " 'comely': ['positive', 'strongsubj'],\n",
              " 'comfort': ['positive', 'weaksubj'],\n",
              " 'comfortable': ['positive', 'weaksubj'],\n",
              " 'comfortably': ['positive', 'weaksubj'],\n",
              " 'comforting': ['positive', 'strongsubj'],\n",
              " 'comical': ['negative', 'weaksubj'],\n",
              " 'commend': ['positive', 'strongsubj'],\n",
              " 'commendable': ['positive', 'strongsubj'],\n",
              " 'commendably': ['positive', 'strongsubj'],\n",
              " 'commensurate': ['positive', 'weaksubj'],\n",
              " 'commonsense': ['positive', 'weaksubj'],\n",
              " 'commonsensible': ['positive', 'weaksubj'],\n",
              " 'commonsensibly': ['positive', 'weaksubj'],\n",
              " ...}"
            ]
          },
          "execution_count": 201,
          "metadata": {},
          "output_type": "execute_result"
        }
      ],
      "source": [
        "def create_lex_dict(path):\n",
        "    sent_lex = {}\n",
        "    with open(path, mode=\"r\", encoding=\"utf-8\") as f:\n",
        "        for line in f:\n",
        "            # split the line when you encounter a space, so we know have type=.. ; len=.. ; etc\n",
        "            split = line.split(\" \") \n",
        "            #  we take first the first element on new line, we split word before and after equal, take second part which is the type\n",
        "            typ = split[0].split('=')[1] \n",
        "            # now we want the word we are looking at, so take third element, and again what is there after equality\n",
        "            word = split[2].split('=')[1] \n",
        "            # to take priorpolarity do the same but discard last element which is /n to go to next line\n",
        "            priorpolarity = split[-1].split('=')[1][:-1]\n",
        "            sent_lex[word] = [priorpolarity,typ]\n",
        "            #so we created dict with word and as keyvalue the priorpolarity and the type\n",
        "\n",
        "    return sent_lex\n",
        "\n",
        "lex_dict = create_lex_dict(\"sent_lexicon\")\n",
        "#fix output - done\n",
        "lex_dict\n"
      ]
    },
    {
      "cell_type": "code",
      "execution_count": 178,
      "metadata": {},
      "outputs": [
        {
          "name": "stdout",
          "output_type": "stream",
          "text": [
            "Weak and positive count: 826\n",
            "Weak and negative count: 1088\n",
            "Strong and positive count: 1470\n",
            "Strong and negative count: 3061\n"
          ]
        }
      ],
      "source": [
        "#COUNTING DIFFERENT TYPE OF WORDS IN LEXICON - not important\n",
        "weak_positive_count = 0\n",
        "weak_negative_count = 0\n",
        "strong_positive_count = 0\n",
        "strong_negative_count = 0\n",
        "\n",
        "for attributes in lex_dict.values():\n",
        "\n",
        "    if 'weaksubj' in attributes and 'positive' in attributes:\n",
        "        weak_positive_count += 1\n",
        "    \n",
        "    if 'weaksubj' in attributes and 'negative' in attributes:\n",
        "        weak_negative_count += 1\n",
        "    \n",
        "    if 'strongsubj' in attributes and 'positive' in attributes:\n",
        "        strong_positive_count += 1\n",
        "    if 'strongsubj' in attributes and 'negative' in attributes:\n",
        "        strong_negative_count += 1\n",
        "\n",
        "print(f\"Weak and positive count: {weak_positive_count}\")\n",
        "print(f\"Weak and negative count: {weak_negative_count}\")\n",
        "print(f\"Strong and positive count: {strong_positive_count}\")\n",
        "print(f\"Strong and negative count: {strong_negative_count}\")\n"
      ]
    },
    {
      "cell_type": "code",
      "execution_count": 232,
      "metadata": {},
      "outputs": [],
      "source": [
        "def binary_score(reviews,lexicon):\n",
        "    score = 0\n",
        "    long = 0\n",
        "    for s in reviews['content']:\n",
        "        for word,a in s:\n",
        "            word = word.lower()\n",
        "            if word in lex_dict:\n",
        "                pol= lexicon[word][0]\n",
        "                if pol == 'negative':\n",
        "                    score -= 1\n",
        "                elif pol == 'positive':\n",
        "                    score += 1\n",
        "                elif pol == 'neutral':\n",
        "                    score += 0\n",
        "                long += 1\n",
        "            else:\n",
        "                pass\n",
        "            \n",
        "\n",
        "    return score,long #we apply it to one review, so it returns the score and length of the review\n"
      ]
    },
    {
      "cell_type": "code",
      "execution_count": 233,
      "metadata": {},
      "outputs": [],
      "source": [
        "def lex_classification_bin(reviews,lexicon,threshold):\n",
        "    token = []\n",
        "    tot_score = []\n",
        "    tot_length = []\n",
        "    for s in reviews:\n",
        "        true_label = s['sentiment']\n",
        "        score, length = binary_score(s,lexicon)\n",
        "        tot_length.append(length)\n",
        "        tot_score.append(score)\n",
        "\n",
        "        if ((score >= threshold and true_label == \"POS\")) or ((score < threshold and true_label == \"NEG\")):\n",
        "            token.append(1)\n",
        "        else:\n",
        "            token.append(0)\n",
        "\n",
        "    avg_score = np.mean(tot_score)\n",
        "    avg_length = np.mean(tot_length)\n",
        "\n",
        "    return token, avg_score, avg_length #returns list with tokens(predictions), average score and the average length of the reviews\n",
        "    \n",
        "    "
      ]
    },
    {
      "cell_type": "code",
      "execution_count": 234,
      "metadata": {},
      "outputs": [
        {
          "name": "stdout",
          "output_type": "stream",
          "text": [
            "98.0305\n",
            "Accuracy: 0.68\n"
          ]
        }
      ],
      "source": [
        "token_results, _ , avg = lex_classification_bin(reviews,lex_dict,8)\n",
        "print(avg)\n",
        "\n",
        "token_accuracy = sum(token_results) / len(token_results)\n",
        "print(\"Accuracy: %0.2f\" % token_accuracy)"
      ]
    },
    {
      "cell_type": "markdown",
      "metadata": {
        "id": "Twox0s_3eS0V"
      },
      "source": [
        "As the sentiment lexicon also has information about the **magnitude** of\n",
        "sentiment (e.g., *“excellent\"* has the same sentiment _polarity_ as *“good\"* but it has a higher magnitude), we can take a more fine-grained approach by adding up all\n",
        "sentiment scores, and deciding the polarity of the movie review using\n",
        "the sign of the weighted score $S_{weighted}$.\n",
        "\n",
        "$$S_{weighted}(w_1w_2...w_n) = \\sum_{i = 1}^{n}SLex\\big[w_i\\big]$$\n",
        "\n",
        "\n",
        "Make sure you define an appropriate threshold for this approach.\n",
        "\n",
        "#### (Q1.2) Now incorporate magnitude information and report the classification accuracy. Don't forget to use the threshold. (1pt)"
      ]
    },
    {
      "cell_type": "code",
      "execution_count": 241,
      "metadata": {},
      "outputs": [],
      "source": [
        "def weighted_score(reviews,lexicon,weight):\n",
        "    score = 0\n",
        "    long = 0\n",
        "    for s in reviews['content']:\n",
        "        for word,a in s:\n",
        "            word = word.lower()\n",
        "            if word in lex_dict:\n",
        "                pol, typ= lexicon[word]\n",
        "                if typ == 'strongsubj':\n",
        "                    w = weight\n",
        "                elif typ == 'weaksubj':\n",
        "                    w = 1\n",
        "                if pol == 'negative':\n",
        "                    score -= w\n",
        "                elif pol == 'positive':\n",
        "                    score += w\n",
        "                elif pol == 'neutral':\n",
        "                    score += 0  \n",
        "                long += 1\n",
        "            else:\n",
        "                pass\n",
        "            \n",
        "   \n",
        "    return score,long  #we apply it to one review, so it returns the score and length of the review\n",
        "\n"
      ]
    },
    {
      "cell_type": "code",
      "execution_count": 242,
      "metadata": {},
      "outputs": [],
      "source": [
        "def lex_classification_weighted(reviews,lexicon,threshold,weight):\n",
        "    token = []\n",
        "    tot_score = []\n",
        "    tot_length = []\n",
        "\n",
        "    for s in reviews:\n",
        "        true_label = s['sentiment']\n",
        "        score, length  = weighted_score(s,lexicon,weight)\n",
        "        tot_score.append(score)\n",
        "        tot_length.append(length)\n",
        "        \n",
        "        if ((score >= threshold and true_label == \"POS\")) or ((score < threshold and true_label == \"NEG\")):\n",
        "            token.append(1)\n",
        "        else:\n",
        "            token.append(0)\n",
        "\n",
        "    \n",
        "    avg_score = np.mean(tot_score)\n",
        "    avg_length = np.mean(tot_length)\n",
        "    \n",
        "\n",
        "    return token, avg_score, avg_length #returns list with tokens(predictions), average score and the average length of the reviews"
      ]
    },
    {
      "cell_type": "code",
      "execution_count": 244,
      "metadata": {
        "id": "qG3hUDnPtkhS"
      },
      "outputs": [],
      "source": [
        "prov_score, new_treshold, avg = lex_classification_weighted(reviews,lex_dict,8,1.5)\n",
        "\n",
        "#print(new_treshold)\n",
        "#print(avg)\n",
        "\n",
        "weighted_res, _,_ = lex_classification_weighted(reviews,lex_dict,new_treshold, 2)"
      ]
    },
    {
      "cell_type": "code",
      "execution_count": 245,
      "metadata": {
        "colab": {
          "base_uri": "https://localhost:8080/",
          "height": 141
        },
        "id": "9vVk7CvDpyka",
        "outputId": "fb9a09d2-b878-416f-d72c-1c651099c9ed"
      },
      "outputs": [
        {
          "name": "stdout",
          "output_type": "stream",
          "text": [
            "Accuracy: 0.69\n"
          ]
        }
      ],
      "source": [
        "token_weight = weighted_res  # a list of binary indicators\n",
        "weighted_accuracy = sum(token_weight) / len(token_weight)\n",
        "print(\"Accuracy: %0.2f\" % weighted_accuracy)"
      ]
    },
    {
      "cell_type": "markdown",
      "metadata": {
        "id": "h9SHoGPfsAHV"
      },
      "source": [
        "#### (Q.1.3) Make a barplot of the two results (0.5pt)"
      ]
    },
    {
      "cell_type": "code",
      "execution_count": 187,
      "metadata": {
        "id": "8LgBcYcXsEk3"
      },
      "outputs": [
        {
          "data": {
            "image/png": "[encoded data removed]",
            "text/plain": [
              "<Figure size 1000x600 with 1 Axes>"
            ]
          },
          "metadata": {},
          "output_type": "display_data"
        }
      ],
      "source": [
        "import matplotlib.pyplot as plt\n",
        "\n",
        "\n",
        "weighted = weighted_accuracy\n",
        "binary = token_accuracy\n",
        "\n",
        "accuracies = ['Weighted Accuracy', 'Binary Accuracy']\n",
        "values = [weighted, binary]\n",
        "\n",
        "plt.figure(figsize=(10, 6))  \n",
        "plt.bar(accuracies, values, color=['blue', 'green'])  \n",
        "\n",
        "plt.ylabel('Accuracy')\n",
        "plt.title('Comparison of Weighted and Binary Accuracies')\n",
        "\n",
        "\n",
        "plt.show()"
      ]
    },
    {
      "cell_type": "markdown",
      "metadata": {
        "id": "sNhS8OCVxMHd"
      },
      "source": [
        "#### (Q1.4) A better threshold (1pt)\n",
        "Above we have defined a threshold to account for an inherent bias in the dataset: there are more positive than negative words per review.\n",
        "However, that threshold does not take into account *document length*. Explain why this is a problem and implement an alternative way to compute the threshold."
      ]
    },
    {
      "cell_type": "markdown",
      "metadata": {
        "id": "xo7gk1I-omLI"
      },
      "source": [
        "As we investigated above, we saw that positive words occure more frequently than negative words. The treshold that we set, is an hard treshold, meaning that it does not take into account the length of the reviews. Thus, if we have a longer review, it is statistically more probable that it would be classified as a positive review. On the other hand, if we have a shorter review, it is statistically more probable (or even certain!) that it would be classified as a negative review. Take in account, under the regime of binary scoring, the following review: \n",
        "\n",
        "#### Review: ' Amazing and fantastic movie '. \n",
        "This review would receive a score of 2. This is because we consider 'amazing,fantastic' as positive words, and 'and,movie' as neutral. However, since we have a hard treshold, it would be classified as a negative review!\n",
        "\n",
        "This was a toy example, but the reasoning explained above still holds for the general case. Thus, we should take in account the document length!\n",
        "\n",
        "To fix this, we could multiply the average bias for the ratio between the length of our document and the average length. In this way, if a document is of average length, the treshold will be the same. However, if it has double the length with respect to the average, it should have a doubled treshold! In formulas, \n",
        "##### Treshold = Average Bias x ( Document Length / Average Document Length )\n",
        "Mathematically, we can defined it as \n",
        "\n",
        "\n",
        "\n",
        "Mathematically, we can define it as:\n",
        "\n",
        "$$\n",
        "t_k = b \\cdot \\frac{l_k}{\\bar{l}}\n",
        "$$\n",
        "\n",
        "Where:\n",
        "\n",
        "- \\( $t_k$ \\) = threshold for review \\( k \\)\n",
        "- \\( $b$ \\) = average bias\n",
        "- \\( $l_k$ \\) = length of review \\( k \\)\n",
        "- \\( $\\bar{l}$ \\) = average document length"
      ]
    },
    {
      "cell_type": "code",
      "execution_count": 246,
      "metadata": {},
      "outputs": [],
      "source": [
        "def lex_classification_mobiletreshold(reviews,lexicon,weight):\n",
        "    token = []\n",
        "    tot_score = []\n",
        "    tot_length = []\n",
        "\n",
        "    for s in reviews:\n",
        "        true_label = s['sentiment']\n",
        "        score, length  = weighted_score(s,lexicon,weight)\n",
        "        \n",
        "        tot_score.append(score)\n",
        "        tot_length.append(length)\n",
        "        \n",
        "    \n",
        "    avg_score = np.mean(tot_score)\n",
        "    avg_length = np.mean(tot_length)\n",
        "    \n",
        "    for s in reviews:\n",
        "        true_label = s['sentiment']\n",
        "        score, length  = weighted_score(s,lexicon,weight)\n",
        "        \n",
        "\n",
        "        threshold = avg_score * (length / avg_length)\n",
        "\n",
        "        if ((score >= threshold and true_label == \"POS\")) or ((score < threshold and true_label == \"NEG\")):\n",
        "            token.append(1)\n",
        "        else:\n",
        "            token.append(0)\n",
        "\n",
        "    \n",
        "    return token, avg_score, avg_length #returns list with tokens(predictions), average score and the average length of the reviews"
      ]
    },
    {
      "cell_type": "code",
      "execution_count": 247,
      "metadata": {},
      "outputs": [
        {
          "name": "stdout",
          "output_type": "stream",
          "text": [
            "Accuracy: 0.70\n"
          ]
        }
      ],
      "source": [
        "thresh_results, _, _= lex_classification_mobiletreshold(reviews,lex_dict,2)\n",
        "\n",
        "\n",
        "\n",
        "token_weight = thresh_results  # a list of binary indicators\n",
        "thresh_accuracy = sum(thresh_results) / len(thresh_results)\n",
        "print(\"Accuracy: %0.2f\" % thresh_accuracy)"
      ]
    },
    {
      "cell_type": "markdown",
      "metadata": {
        "id": "LibV4nR89BXb"
      },
      "source": [
        "# (2) Naive Bayes (9.5pts)"
      ]
    },
    {
      "cell_type": "markdown",
      "metadata": {
        "id": "fnF9adQnuwia"
      },
      "source": [
        "\n",
        "Your second task is to program a simple Machine Learning approach that operates\n",
        "on a simple Bag-of-Words (BoW) representation of the text data, as\n",
        "described by Pang et al. (2002). In this approach, the only features we\n",
        "will consider are the words in the text themselves, without bringing in\n",
        "external sources of information. The BoW model is a popular way of\n",
        "representing texts as vectors, making it\n",
        "easy to apply classical Machine Learning algorithms on NLP tasks.\n",
        "However, the BoW representation is also very crude, since it discards\n",
        "all information related to word order and grammatical structure in the\n",
        "original text—as the name suggests.\n",
        "\n",
        "## Writing your own classifier (4pts)\n",
        "\n",
        "Write your own code to implement the Naive Bayes (NB) classifier. As\n",
        "a reminder, the Naive Bayes classifier works according to the following\n",
        "equation:\n",
        "$$\\hat{c} = \\operatorname*{arg\\,max}_{c \\in C} P(c|\\bar{f}) = \\operatorname*{arg\\,max}_{c \\in C} P(c)\\prod^n_{i=1} P(f_i|c)$$\n",
        "where $C = \\{ \\text{POS}, \\text{NEG} \\}$ is the set of possible classes,\n",
        "$\\hat{c} \\in C$ is the most probable class, and $\\bar{f}$ is the feature\n",
        "vector. Remember that we use the log of these probabilities when making\n",
        "a prediction:\n",
        "$$\\hat{c} = \\operatorname*{arg\\,max}_{c \\in C} \\Big\\{\\log P(c) + \\sum^n_{i=1} \\log P(f_i|c)\\Big\\}$$\n",
        "\n",
        "You can find more details about Naive Bayes in [Jurafsky &\n",
        "Martin](https://web.stanford.edu/~jurafsky/slp3/). You can also look at\n",
        "this helpful\n",
        "[pseudo-code](https://nlp.stanford.edu/IR-book/html/htmledition/naive-bayes-text-classification-1.html).\n",
        "\n",
        "*Note: this section and the next aim to put you in a position to replicate\n",
        "    Pang et al.'s Naive Bayes results. However, your numerical results\n",
        "    will differ from theirs, as they used different data.*\n",
        "\n",
        "**You must write the Naive Bayes training and prediction code from\n",
        "scratch.** You will not be given credit for using off-the-shelf Machine\n",
        "Learning libraries.\n",
        "\n",
        "The data contains the text of the reviews, where each document consists\n",
        "of the sentences in the review, the sentiment of the review and an index\n",
        "(cv) that you will later use for cross-validation. The\n",
        "text has already been tokenised and POS-tagged for you. Your algorithm\n",
        "should read in the text, **lowercase it**, store the words and their\n",
        "frequencies in an appropriate data structure that allows for easy\n",
        "computation of the probabilities used in the Naive Bayes algorithm, and\n",
        "then make predictions for new instances.\n"
      ]
    },
    {
      "cell_type": "markdown",
      "metadata": {
        "id": "vEpyQSBSkb33"
      },
      "source": [
        "#### (Q2.1) Unseen words (1pt)\n",
        "The presence of words in the test dataset that\n",
        "have not been seen during training can cause probabilities in the Naive Bayes classifier to equal $0$.\n",
        "These can be words which are unseen in both positive and negative training reviews (case 1), but also words which are seen in reviews _of only one sentiment class_ in the training dataset (case 2). In both cases, **you should skip these words for both classes at test time**.  What would be the problem instead with skipping words only for one class in case 2?"
      ]
    },
    {
      "cell_type": "markdown",
      "metadata": {
        "id": "BanFiYYnoxDW"
      },
      "source": [
        "*Write your answer here.*"
      ]
    },
    {
      "cell_type": "markdown",
      "metadata": {
        "id": "gsZRhaI3WvzC"
      },
      "source": [
        "#### (Q2.2) Train your classifier on (positive and negative) reviews with cv-value 000-899, and test it on the remaining (positive and negative) reviews cv900–cv999.  Report results using classification accuracy as your evaluation metric. Your  features are the word vocabulary. The value of a feature is the count of that feature (word) in the document. (2pts)\n"
      ]
    },
    {
      "cell_type": "code",
      "execution_count": null,
      "metadata": {
        "id": "G7zaJYGFvIJ3"
      },
      "outputs": [],
      "source": [
        "# YOUR CODE HERE"
      ]
    },
    {
      "cell_type": "markdown",
      "metadata": {
        "id": "0INK-PBoM6CB"
      },
      "source": [
        "#### (Q2.3) Would you consider accuracy to also be a good way to evaluate your classifier in a situation where 90% of your data instances are of positive movie reviews? (1pt)\n",
        "\n",
        "Simulate this scenario by keeping the positive reviews\n",
        "data unchanged, but only using negative reviews cv000–cv089 for\n",
        "training, and cv900–cv909 for testing. Calculate the classification\n",
        "accuracy, and explain what changed."
      ]
    },
    {
      "cell_type": "markdown",
      "metadata": {
        "id": "oFbcsYlipBAw"
      },
      "source": [
        "*Write your answer here.*"
      ]
    },
    {
      "cell_type": "code",
      "execution_count": null,
      "metadata": {
        "id": "GWDkt5ZrrFGp"
      },
      "outputs": [],
      "source": [
        "# YOUR CODE HERE"
      ]
    },
    {
      "cell_type": "markdown",
      "metadata": {
        "id": "6wJzcHX3WUDm"
      },
      "source": [
        "## Smoothing (1pt)\n",
        "\n",
        "As mentioned above, the presence of words in the test dataset that\n",
        "have not been seen during training can cause probabilities in the Naive\n",
        "Bayes classifier to be $0$, thus making that particular test instance\n",
        "undecidable. The standard way to mitigate this effect (as well as to\n",
        "give more clout to rare words) is to use smoothing, in which the\n",
        "probability fraction\n",
        "$$\\frac{\\text{count}(w_i, c)}{\\sum\\limits_{w\\in V} \\text{count}(w, c)}$$ for a word\n",
        "$w_i$ becomes\n",
        "$$\\frac{\\text{count}(w_i, c) + \\text{smoothing}(w_i)}{\\sum\\limits_{w\\in V} \\text{count}(w, c) + \\sum\\limits_{w \\in V} \\text{smoothing}(w)}$$\n",
        "\n",
        "\n",
        "\n"
      ]
    },
    {
      "cell_type": "markdown",
      "metadata": {
        "id": "PBNIcbwUWphC"
      },
      "source": [
        "#### (Q2.4) Implement Laplace feature smoothing (1pt)\n",
        "Implement Laplace smoothing, i.e., smoothing with a constant value ($smoothing(w) = \\kappa, \\forall w \\in V$), in your Naive\n",
        "Bayes classifier’s code, and report the accuracy.\n",
        "Use $\\kappa = 1$."
      ]
    },
    {
      "cell_type": "code",
      "execution_count": null,
      "metadata": {
        "id": "g03yflCc9kpW"
      },
      "outputs": [],
      "source": [
        "# YOUR CODE HERE"
      ]
    },
    {
      "cell_type": "markdown",
      "metadata": {
        "id": "ZiGcgwba87D5"
      },
      "source": [
        "## Cross-Validation (1.5pts)\n",
        "\n",
        "A serious danger in using Machine Learning on small datasets, with many\n",
        "iterations of slightly different versions of the algorithms, is ending up with Type III errors, also called the “testing hypotheses\n",
        "suggested by the data” errors. This type of error occurs when we make\n",
        "repeated improvements to our classifiers by playing with features and\n",
        "their processing, but we don’t get a fresh, never-before seen test\n",
        "dataset every time. Thus, we risk developing a classifier that gets better\n",
        "and better on our data, but only gets worse at generalizing to new, unseen data. In other words, we risk developping a classifier that overfits.\n",
        "\n",
        "A simple method to guard against Type III errors is to use\n",
        "Cross-Validation. In **N-fold Cross-Validation**, we divide the data into N\n",
        "distinct chunks, or folds. Then, we repeat the experiment N times: each\n",
        "time holding out one of the folds for testing, training our classifier\n",
        "on the remaining N - 1 data folds, and reporting performance on the\n",
        "held-out fold. We can use different strategies for dividing the data:\n",
        "\n",
        "-   Consecutive splitting:\n",
        "  - cv000–cv099 = Split 1\n",
        "  - cv100–cv199 = Split 2\n",
        "  - etc.\n",
        "  \n",
        "-   Round-robin splitting (mod 10):\n",
        "  - cv000, cv010, cv020, … = Split 1\n",
        "  - cv001, cv011, cv021, … = Split 2\n",
        "  - etc.\n",
        "\n",
        "-   Random sampling/splitting\n",
        "  - Not used here (but you may choose to split this way in a non-educational situation)\n",
        "\n"
      ]
    },
    {
      "cell_type": "markdown",
      "metadata": {
        "id": "8OeLcbSauGtR"
      },
      "source": [
        "#### (Q2.5) Write the code to implement 10-fold cross-validation using round-robin splitting for your Naive Bayes classifier from Q2.4 and compute the 10 accuracies. Report the final performance, which is the average of the performances per fold. If all splits perform equally well, this is a good sign. (1pt)"
      ]
    },
    {
      "cell_type": "code",
      "execution_count": null,
      "metadata": {
        "id": "3KeCGPa7Nuzx"
      },
      "outputs": [],
      "source": [
        "# YOUR CODE HERE"
      ]
    },
    {
      "cell_type": "markdown",
      "metadata": {
        "id": "otdlsDXBNyOa"
      },
      "source": [
        "#### (Q2.6) Report the variance of the 10 accuracy scores. (0.5pt)\n",
        "\n",
        "**Please report all future results using 10-fold cross-validation now\n",
        "(unless told to use the held-out test set).** Note: you're not allowed to use a library for computing the variance."
      ]
    },
    {
      "cell_type": "code",
      "execution_count": null,
      "metadata": {
        "id": "ZoBQm1KuNzNR"
      },
      "outputs": [],
      "source": [
        "# YOUR CODE HERE"
      ]
    },
    {
      "cell_type": "markdown",
      "metadata": {
        "id": "s6A2zX9_BRKm"
      },
      "source": [
        "## Features, overfitting, and the curse of dimensionality\n",
        "\n",
        "In the Bag-of-Words model, ideally we would like each distinct word in\n",
        "the text to be mapped to its own dimension in the output vector\n",
        "representation. However, real world text is messy, and we need to decide\n",
        "on what we consider to be a word. For example, is “`word`\" different\n",
        "from “`Word`\", from “`word`”, or from “`words`\"? Too strict a\n",
        "definition, and the number of features explodes, while our algorithm\n",
        "fails to learn anything generalisable. Too lax, and we risk destroying\n",
        "our learning signal. In the following section, you will learn about\n",
        "confronting the feature sparsity and the overfitting problems as they\n",
        "occur in NLP classification tasks."
      ]
    },
    {
      "cell_type": "markdown",
      "metadata": {
        "id": "EKK8FNt8VtcZ"
      },
      "source": [
        "### Stemming (1.5pts)\n",
        "\n",
        "To make your algorithm more robust, use stemming and hash different inflections of a word to the same feature in the BoW vector space. Please use the [Porter stemming\n",
        "    algorithm](http://www.nltk.org/howto/stem.html) from NLTK.\n",
        "\n"
      ]
    },
    {
      "cell_type": "code",
      "execution_count": null,
      "metadata": {
        "id": "NxtCul1IrBi_"
      },
      "outputs": [],
      "source": [
        "# YOUR CODE HERE"
      ]
    },
    {
      "cell_type": "markdown",
      "metadata": {
        "id": "6SrJ1BeLXTnk"
      },
      "source": [
        "#### (Q2.7): How does the performance of your classifier change when you use stemming on your training and test datasets? (1pt)\n",
        "Use cross-validation to evaluate the classifier.\n"
      ]
    },
    {
      "cell_type": "code",
      "execution_count": null,
      "metadata": {
        "id": "gYqKBOiIrInT"
      },
      "outputs": [],
      "source": [
        "# YOUR ANSWER HERE"
      ]
    },
    {
      "cell_type": "markdown",
      "metadata": {
        "id": "JkDHVq_1XUVP"
      },
      "source": [
        "#### (Q2.8) What happens to the number of features (i.e., the size of the vocabulary) when using stemming as opposed to (Q2.4)? (0.5pt)\n",
        "Give actual numbers. You can use the held-out training set to determine these."
      ]
    },
    {
      "cell_type": "code",
      "execution_count": null,
      "metadata": {
        "id": "MA3vee5-rJyy"
      },
      "outputs": [],
      "source": [
        "# YOUR CODE HERE"
      ]
    },
    {
      "cell_type": "markdown",
      "metadata": {
        "id": "SoazfxbNV5Lq"
      },
      "source": [
        "### N-grams (1.5pts)\n",
        "\n",
        "A simple way of retaining some of the word\n",
        "order information when using bag-of-words representations is to use **n-gram** features.\n",
        "\n",
        "\n",
        "\n",
        "\n"
      ]
    },
    {
      "cell_type": "markdown",
      "metadata": {
        "id": "OHjy3I7-qWiu"
      },
      "source": [
        "#### (Q2.9) Retrain your classifier from (Q2.4) using **unigrams+bigrams** and **unigrams+bigrams+trigrams** as features. (1pt)\n",
        "Report accuracy and compare it with that of the approaches you have previously implemented. You are allowed to use NLTK to build n-grams from sentences."
      ]
    },
    {
      "cell_type": "code",
      "execution_count": null,
      "metadata": {
        "id": "eYuKMTOpq9jz"
      },
      "outputs": [],
      "source": [
        "# YOUR CODE HERE"
      ]
    },
    {
      "cell_type": "markdown",
      "metadata": {
        "id": "dVrGGArkrWoL"
      },
      "source": [
        "\n",
        "#### Q2.10: How many features does the BoW model have to take into account now? (0.5pt)\n",
        "How would you expect the number of features to increase theoretically (e.g., linear, square, cubed, exponential)? How does this number compare, in practice, to the number of features at (Q2.8)?\n",
        "\n",
        "Use the held-out training set once again for this.\n"
      ]
    },
    {
      "cell_type": "markdown",
      "metadata": {
        "id": "yEGZ9SV8pPaa"
      },
      "source": [
        "*Write your answer here.*"
      ]
    },
    {
      "cell_type": "code",
      "execution_count": null,
      "metadata": {
        "id": "_z8sAJeUrdtM"
      },
      "outputs": [],
      "source": [
        "# YOUR CODE HERE"
      ]
    },
    {
      "cell_type": "markdown",
      "metadata": {
        "id": "CHWKDL3YV6vh"
      },
      "source": [
        "# (3) Support Vector Machines (4pts)"
      ]
    },
    {
      "cell_type": "markdown",
      "metadata": {
        "id": "hJSYhcVaoJGt"
      },
      "source": [
        "Though simple to understand, implement, and debug, one\n",
        "major problem with the Naive Bayes classifier is that its performance\n",
        "deteriorates (becomes skewed) when it is being used with features which\n",
        "are not independent (i.e., are correlated). Another popular classifier\n",
        "that doesn’t scale as well to big data, and is not as simple to debug as\n",
        "Naive Bayes, but that doesn’t assume feature independence is the Support\n",
        "Vector Machine (SVM) classifier.\n",
        "\n",
        "You can find more details about SVMs in Chapter 7 of Bishop: Pattern Recognition and Machine Learning.\n",
        "Other sources for learning SVM:\n",
        "* http://web.mit.edu/zoya/www/SVM.pdf\n",
        "* http://www.cs.columbia.edu/~kathy/cs4701/documents/jason_svm_tutorial.pdf\n",
        "* https://pythonprogramming.net/support-vector-machine-intro-machine-learning-tutorial/\n",
        "\n",
        "\n",
        "\n",
        "\n",
        "\n",
        "\n",
        "\n",
        "Use the scikit-learn implementation of\n",
        "[SVM](http://scikit-learn.org/stable/modules/svm.html) with the default parameters. (You are not expected to perform any hyperparameter tuning, but feel free to do it if you think it gives you good insights for the discussion in question 5.)\n",
        "\n"
      ]
    },
    {
      "cell_type": "markdown",
      "metadata": {
        "id": "0LnzNtQBV8gr"
      },
      "source": [
        "#### (Q3.1): Train SVM and compare to Naive Bayes (2pts)\n",
        "\n",
        "Train an SVM classifier (sklearn.svm.LinearSVC) using the features collected for Naive Bayes. Compare the\n",
        "classification performance of the SVM classifier to that of the Naive\n",
        "Bayes classifier with smoothing.\n",
        "Use cross-validation to evaluate the performance of the classifiers.\n",
        "\n"
      ]
    },
    {
      "cell_type": "code",
      "execution_count": null,
      "metadata": {
        "id": "JBscui8Mvoz0"
      },
      "outputs": [],
      "source": [
        "# YOUR CODE HERE"
      ]
    },
    {
      "cell_type": "markdown",
      "metadata": {
        "id": "ifXVWcK0V9qY"
      },
      "source": [
        "### POS disambiguation (2pts)\n",
        "\n",
        "Now add in part-of-speech features. You will find the\n",
        "movie review dataset has already been POS-tagged for you ([here](https://catalog.ldc.upenn.edu/docs/LDC99T42/tagguid1.pdf) you find the tagset). Try to\n",
        "replicate the results obtained by Pang et al. (2002).\n",
        "\n"
      ]
    },
    {
      "cell_type": "markdown",
      "metadata": {
        "id": "xA3I82o4oWGu"
      },
      "source": [
        "####(Q3.2) Replace your features with word+POS features, and report performance with the SVM. Use cross-validation to evaluate the classifier and compare the results with (Q3.1). Does part-of-speech information help? Explain why this may be the case. (1pt)\n"
      ]
    },
    {
      "cell_type": "code",
      "execution_count": null,
      "metadata": {
        "id": "NOvjYe-t2Br6"
      },
      "outputs": [],
      "source": [
        "# YOUR CODE HERE"
      ]
    },
    {
      "cell_type": "markdown",
      "metadata": {
        "id": "L0dt_oQupUNe"
      },
      "source": [
        "*Write your answer here.*"
      ]
    },
    {
      "cell_type": "markdown",
      "metadata": {
        "id": "Su-3w87eMW0w"
      },
      "source": [
        "#### (Q3.3) Discard all closed-class words from your data (keep only nouns, verbs, adjectives, and adverbs), and report performance. Does this help? Use cross-validation to evaluate the classifier and compare the results with (Q3.2). Are closed-class words detrimental to the classifier? Explain why this may be the case. (1pt)"
      ]
    },
    {
      "cell_type": "code",
      "execution_count": null,
      "metadata": {
        "id": "CCUPlPozCYUX"
      },
      "outputs": [],
      "source": [
        "# YOUR CODE HERE"
      ]
    },
    {
      "cell_type": "markdown",
      "metadata": {
        "id": "YaxCVrs8pWSp"
      },
      "source": [
        "*Write your answer here.*"
      ]
    },
    {
      "cell_type": "markdown",
      "metadata": {
        "id": "nfwqOciAl2No"
      },
      "source": [
        "# (4) Discussion (max. 500 words). (5pts)\n",
        "\n",
        "> Based on your experiments, what are the effective features and techniques in sentiment analysis? What information do different features encode?\n",
        "Why is this important? What are the limitations of these features and techniques?\n",
        "\n"
      ]
    },
    {
      "cell_type": "markdown",
      "metadata": {
        "id": "ZYuse5WLmekZ"
      },
      "source": [
        "*Write your answer here in up to 500 words (-0.25pt for >50 extra words, -0.5 points for >100 extra words, ...)*.\n"
      ]
    },
    {
      "cell_type": "markdown",
      "metadata": {
        "id": "iwaKwfWQhRk_"
      },
      "source": [
        "# Submission\n"
      ]
    },
    {
      "cell_type": "code",
      "execution_count": null,
      "metadata": {
        "id": "aOUeaET5ijk-"
      },
      "outputs": [],
      "source": [
        "# Write your names and student numbers here:\n",
        "# Student 1 #12345\n",
        "# Student 2 #12345"
      ]
    },
    {
      "cell_type": "markdown",
      "metadata": {
        "id": "3A9K-H6Tii3X"
      },
      "source": [
        "**That's it!**\n",
        "\n",
        "- Check if you answered all questions fully and correctly.\n",
        "- Download your completed notebook using `File -> Download .ipynb`\n",
        "- Check if your answers are all included in the file you submit.\n",
        "- Submit your .ipynb file via *Canvas*. One submission per group."
      ]
    },
    {
      "cell_type": "code",
      "execution_count": null,
      "metadata": {
        "id": "YHslatYAKBrF"
      },
      "outputs": [],
      "source": []
    }
  ],
  "metadata": {
    "colab": {
      "provenance": []
    },
    "kernelspec": {
      "display_name": "Python 3",
      "name": "python3"
    },
    "language_info": {
      "codemirror_mode": {
        "name": "ipython",
        "version": 3
      },
      "file_extension": ".py",
      "mimetype": "text/x-python",
      "name": "python",
      "nbconvert_exporter": "python",
      "pygments_lexer": "ipython3",
      "version": "3.9.18"
    }
  },
  "nbformat": 4,
  "nbformat_minor": 0
}
